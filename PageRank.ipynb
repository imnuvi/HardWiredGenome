{
 "cells": [
  {
   "cell_type": "code",
   "execution_count": 1,
   "id": "0325743e-cadb-4f65-ab0a-5b5d1fc39e51",
   "metadata": {},
   "outputs": [],
   "source": [
    "import pandas as pd\n",
    "import numpy as np\n",
    "import anndata\n",
    "\n",
    "from scipy.ndimage import gaussian_filter\n",
    "import matplotlib.pyplot as plt\n",
    "\n",
    "import networkx as nx\n",
    "\n",
    "import json\n",
    "import random"
   ]
  },
  {
   "cell_type": "code",
   "execution_count": 2,
   "id": "5bdbb295-c963-468e-a535-92520cac0b5a",
   "metadata": {},
   "outputs": [],
   "source": [
    "from mapping import get_sorted_gene_order, generate_gene_id_name_map, get_master_regulator_list, get_TF_lists, get_a_matrix_threshold\n",
    "\n",
    "\n",
    "from constants import OPERATIONS_DIRECTORY\n"
   ]
  },
  {
   "cell_type": "code",
   "execution_count": 3,
   "id": "dd3bb102-424e-42ea-8f16-fe4d88e2fe11",
   "metadata": {},
   "outputs": [],
   "source": [
    "from network_utils import get_all_targets, get_gene_targets, get_gene_targets_multi, get_influencers, calculate_net_effect, construct_network_2d, construct_network, add_network_props, insert_perturbation, activate_perturbation, update_network\n",
    "from network_utils import GeneUtils\n",
    "from genexpression_utils import fetch_genexpression_data, get_marker_gene_sets, fetch_fibroblast_data, fetch_myotube_data, fetch_hyb_nodes"
   ]
  },
  {
   "cell_type": "code",
   "execution_count": 4,
   "id": "1daefa94-0543-4c10-929a-e58e2b91dcfb",
   "metadata": {},
   "outputs": [
    {
     "name": "stdout",
     "output_type": "stream",
     "text": [
      " Total Activators : 174\n",
      "Total Reprossors : 705\n",
      "Total Conflicted : 729\n",
      "Total Transcription Factors : 1608\n",
      "total master regulators 439\n",
      " Total Activators : 174\n",
      "Total Reprossors : 705\n",
      "Total Conflicted : 729\n",
      "Total Transcription Factors : 1608\n",
      "Extracted 43945 mappings from 73467 ensembl lines\n",
      "Extracted 38606 mappings from gene id gtf file\n",
      "Total Mappings Extracted 59979\n",
      "ordering 18582 genes\n"
     ]
    }
   ],
   "source": [
    "thresh = 300\n",
    "\n",
    "a_matrix_adata, b_matrix_true, c_matrix_true = get_a_matrix_threshold(thresh)\n",
    "\n",
    "# b_matrix = anndata.read_h5ad('/nfs/turbo/umms-indikar/shared/projects/HWG/data/HWG/operations/B_matrices_true.h5ad')\n",
    "\n",
    "b_matrix = b_matrix_true\n",
    "\n",
    "master_regulator_list = get_master_regulator_list()\n",
    "repressorlist, activatorlist, conflictedlist, tf_list = get_TF_lists()\n",
    "\n",
    "gene_id_name_map, gene_name_id_map = generate_gene_id_name_map()\n",
    "\n",
    "genes = get_sorted_gene_order()\n",
    "\n",
    "# b_matrix_true = a_matrix_adata[a_matrix_adata.obs_names.isin(tf_list)]\n",
    "\n",
    "gene_markers = get_marker_gene_sets()"
   ]
  },
  {
   "cell_type": "code",
   "execution_count": 6,
   "id": "96d7a800-869e-4562-bf89-c12cca72527b",
   "metadata": {},
   "outputs": [
    {
     "data": {
      "text/plain": [
       "AnnData object with n_obs × n_vars = 19678 × 19678\n",
       "    layers: 'HURI', 'STRING', 'HWG_0', 'HWG_300'"
      ]
     },
     "execution_count": 6,
     "metadata": {},
     "output_type": "execute_result"
    }
   ],
   "source": [
    "a_matrix_adata"
   ]
  },
  {
   "cell_type": "code",
   "execution_count": 13,
   "id": "3f7d1f07-428e-4f53-ae38-8a5514170ae4",
   "metadata": {},
   "outputs": [],
   "source": [
    "import scipy.io as sio\n",
    "import scipy.sparse as sp\n",
    "\n",
    "adata = a_matrix_adata\n",
    "\n",
    "# Extract sparse matrix (X), obs_names (cells), var_names (genes/features)\n",
    "X = adata.X.tocsr() if sp.issparse(adata.X) else sp.csr_matrix(adata.X)\n",
    "obs_names = adata.obs_names.to_numpy()\n",
    "var_names = adata.var_names.to_numpy()\n",
    "\n",
    "# Save as MATLAB .mat file\n",
    "sio.savemat(\"data/a_matrix_sparse.mat\", {\n",
    "    \"X\": X,  # sparse matrix preserved\n",
    "    \"obs_names\": obs_names,\n",
    "    \"var_names\": var_names,\n",
    "    \"gene_names\": [gene_id_name_map.get(i, \"\") for i in obs_names]\n",
    "})"
   ]
  },
  {
   "cell_type": "code",
   "execution_count": null,
   "id": "d94ec131-10a1-4317-9d2e-32e2bc4fb9c8",
   "metadata": {},
   "outputs": [],
   "source": []
  }
 ],
 "metadata": {
  "kernelspec": {
   "display_name": "HardWiredGenome",
   "language": "python",
   "name": "hardwiredgenome"
  },
  "language_info": {
   "codemirror_mode": {
    "name": "ipython",
    "version": 3
   },
   "file_extension": ".py",
   "mimetype": "text/x-python",
   "name": "python",
   "nbconvert_exporter": "python",
   "pygments_lexer": "ipython3",
   "version": "3.11.12"
  }
 },
 "nbformat": 4,
 "nbformat_minor": 5
}
