{
 "cells": [
  {
   "cell_type": "code",
   "execution_count": 1,
   "id": "7ec16bbc-fc3f-40aa-9875-5786961509dc",
   "metadata": {},
   "outputs": [],
   "source": [
    "import pandas as pd\n",
    "import numpy as np\n",
    "import anndata\n",
    "\n",
    "from scipy.ndimage import gaussian_filter\n",
    "import matplotlib.pyplot as plt\n",
    "\n",
    "import scanpy as sc\n",
    "\n",
    "import networkx as nx"
   ]
  },
  {
   "cell_type": "code",
   "execution_count": 19,
   "id": "dd06b41d-e5b3-44b5-83d9-51ef0b4133ef",
   "metadata": {},
   "outputs": [
    {
     "ename": "ImportError",
     "evalue": "cannot import name 'fetch_hyb_nodes' from 'genexpression_utils' (/nfs/turbo/umms-indikar/Ram/development/projects/HardWiredGenome/genexpression_utils.py)",
     "output_type": "error",
     "traceback": [
      "\u001b[31m---------------------------------------------------------------------------\u001b[39m",
      "\u001b[31mImportError\u001b[39m                               Traceback (most recent call last)",
      "\u001b[36mCell\u001b[39m\u001b[36m \u001b[39m\u001b[32mIn[19]\u001b[39m\u001b[32m, line 1\u001b[39m\n\u001b[32m----> \u001b[39m\u001b[32m1\u001b[39m \u001b[38;5;28;01mfrom\u001b[39;00m\u001b[38;5;250m \u001b[39m\u001b[34;01mgenexpression_utils\u001b[39;00m\u001b[38;5;250m \u001b[39m\u001b[38;5;28;01mimport\u001b[39;00m fetch_genexpression_data, get_marker_gene_sets, fetch_fibroblast_data, fetch_myotube_data, fetch_HYB_genexpression, fetch_hyb_nodes\n",
      "\u001b[31mImportError\u001b[39m: cannot import name 'fetch_hyb_nodes' from 'genexpression_utils' (/nfs/turbo/umms-indikar/Ram/development/projects/HardWiredGenome/genexpression_utils.py)"
     ]
    }
   ],
   "source": [
    "from genexpression_utils import fetch_genexpression_data, get_marker_gene_sets, fetch_fibroblast_data, fetch_myotube_data, fetch_HYB_genexpression, fetch_hyb_nodes"
   ]
  },
  {
   "cell_type": "code",
   "execution_count": 3,
   "id": "1e6e9eaf-c307-4548-95a9-d01d2eb8b3b9",
   "metadata": {},
   "outputs": [
    {
     "name": "stdout",
     "output_type": "stream",
     "text": [
      " Total Activators : 174\n",
      "Total Reprossors : 705\n",
      "Total Conflicted : 729\n",
      "Total Transcription Factors : 1608\n",
      "Extracted 43945 mappings from 73467 ensembl lines\n",
      "Extracted 38606 mappings from gene id gtf file\n",
      "Total Mappings Extracted 59979\n"
     ]
    }
   ],
   "source": [
    "from mapping import get_sorted_gene_order, generate_gene_id_name_map, get_master_regulator_list, get_TF_lists, get_a_matrix_threshold\n",
    "\n",
    "from network_utils import GeneUtils\n",
    "\n",
    "a_matrix_adata, b_matrix_true = get_a_matrix_threshold(300)\n",
    "gene_id_name_map, gene_name_id_map = generate_gene_id_name_map()\n",
    "GUtils = GeneUtils"
   ]
  },
  {
   "cell_type": "code",
   "execution_count": 4,
   "id": "cd30000d-c3e6-4082-a3ca-dee6758f0751",
   "metadata": {},
   "outputs": [],
   "source": []
  },
  {
   "cell_type": "code",
   "execution_count": 5,
   "id": "d8c06fd6-22cb-454c-94db-080d0a77608c",
   "metadata": {},
   "outputs": [
    {
     "name": "stdout",
     "output_type": "stream",
     "text": [
      "AnnData object with n_obs × n_vars = 4 × 25126\n",
      "    var: 'gene_id', 'gene_type', 'Chromosome', 'Start', 'End'\n",
      "    layers: 'binarized', 'bulk_counts'\n",
      "Layers with keys: binarized, bulk_counts\n"
     ]
    }
   ],
   "source": [
    "print(HYB_anndata)\n",
    "print(HYB_anndata.layers)"
   ]
  },
  {
   "cell_type": "code",
   "execution_count": 7,
   "id": "875f404d-207f-4f08-80ff-9e845e6a68c6",
   "metadata": {},
   "outputs": [],
   "source": [
    "HYB_anndata = fetch_HYB_genexpression()\n",
    "\n",
    "fibroblast = HYB_anndata[HYB_anndata.obs_names == 'Control']\n",
    "reprogrammed = HYB_anndata[HYB_anndata.obs_names == 'mmMYOD1']\n",
    "myotube = fetch_myotube_data()"
   ]
  },
  {
   "cell_type": "code",
   "execution_count": 8,
   "id": "c5474ca1-4dd4-4172-8ff0-1aea45a74db5",
   "metadata": {},
   "outputs": [
    {
     "name": "stdout",
     "output_type": "stream",
     "text": [
      " Total Activators : 174\n",
      "Total Reprossors : 705\n",
      "Total Conflicted : 729\n",
      "Total Transcription Factors : 1608\n"
     ]
    },
    {
     "name": "stderr",
     "output_type": "stream",
     "text": [
      "/home/nuvi/.local/lib/python3.11/site-packages/anndata/_core/anndata.py:1758: UserWarning: Variable names are not unique. To make them unique, call `.var_names_make_unique`.\n",
      "  utils.warn_names_duplicates(\"var\")\n"
     ]
    },
    {
     "name": "stdout",
     "output_type": "stream",
     "text": [
      "{'KLHL31', 'REST', nan, 'RBM38', 'SGCA', 'CTNNB1', 'FOXC2', 'JAG1', 'GTF2I', 'MYH3', 'FER1L5', 'NET1', 'RCSD1', 'FGFR2', 'HLF', 'HEYL', 'SIX1', 'EVC', 'ENO3', 'PITX1', 'RAPSN', 'FAM65B', 'IL4R', 'NR2C2', 'ANKRD1', 'PTN', 'EYS', 'ACTN3', 'EYA1', 'TGFBR1', 'ANKRD33', 'HDAC9', 'RBM24', 'ZEB1', 'FGFRL1', 'SIK1', 'VAMP5', 'CAMK2B', 'TBX1', 'NR2F2', 'RPS6KB1', 'TEAD4', 'GPCPD1', 'BIN3', 'IFRD1', 'HAS2', 'BMPR1A', 'ETV5', 'HAND2', 'CHD7', 'EHD1', 'BCL9', 'KCNAB1', 'COLQ', 'FNTA', 'GTF2IRD1', 'MSX1', 'BHLHE41', 'DDX17', 'COL19A1', 'DDX5', 'FOS', 'KEL', 'THRA', 'CAPN2', 'CFLAR', 'HIVEP3', 'SAP30', 'OSR1', 'SMO', 'TTN', 'CAV3', 'MTOR'}\n",
      "Extracted 43945 mappings from 73467 ensembl lines\n",
      "Extracted 38606 mappings from gene id gtf file\n",
      "Total Mappings Extracted 59979\n",
      "no mapping found for nan\n",
      "no mapping found for FAM65B\n"
     ]
    }
   ],
   "source": []
  },
  {
   "cell_type": "code",
   "execution_count": 9,
   "id": "d8281f7c-756b-4060-81c5-1c46edbe805f",
   "metadata": {},
   "outputs": [],
   "source": [
    "marker_gene_sets = get_marker_gene_sets()\n",
    "myotube_markers = set(marker_gene_sets['Muscle'].tolist())\n",
    "\n",
    "muscle_marker_genes = list(myotube_markers)\n",
    "\n",
    "\n",
    "fib_markers = set(marker_gene_sets['Fibroblast'].tolist())\n",
    "\n",
    "fib_marker_genes = list(fib_markers)\n",
    "\n",
    "fib_marker_ids = [ ]\n",
    "for i in fib_marker_genes:\n",
    "    try:\n",
    "        gid = gene_name_id_map[i]\n",
    "        fib_marker_ids.append(gid)\n",
    "    except:\n",
    "        print(f'no mapping found for {i}')\n",
    "        continue\n",
    "\n",
    "muscle_marker_ids = [ ]\n",
    "for i in fib_marker_genes:\n",
    "    try:\n",
    "        gid = gene_name_id_map[i]\n",
    "        muscle_marker_ids.append(gid)\n",
    "    except:\n",
    "        print(f'no mapping found for {i}')\n",
    "        continue\n",
    "    "
   ]
  },
  {
   "cell_type": "code",
   "execution_count": 10,
   "id": "cb3772fc-dec3-47ef-bd09-3be26c34c330",
   "metadata": {},
   "outputs": [],
   "source": [
    "def process_gex_anndata(fibroblast, fib_marker_ids, thresh):\n",
    "\n",
    "    sc.pp.normalize_total(fibroblast, target_sum=1e4)\n",
    "    sc.pp.log1p(fibroblast)\n",
    "    \n",
    "    fibroblast.var['GeneName'] = fibroblast.var_names\n",
    "    fibroblast.var_names = fibroblast.var['gene_id']\n",
    "\n",
    "    gex_adata = fibroblast\n",
    "\n",
    "    \n",
    "    \n",
    "    expr_values = gex_adata.X.flatten()\n",
    "    \n",
    "    expr_series = pd.Series(expr_values, index=gex_adata.var_names)\n",
    "\n",
    "    if fib_marker_ids:\n",
    "        marker_expr = expr_series[expr_series.index.isin(fib_marker_ids)]\n",
    "\n",
    "    if thresh:\n",
    "        threshold = thresh\n",
    "    else:\n",
    "        threshold = marker_expr.mean()\n",
    "    \n",
    "    print(threshold)\n",
    "    high_expr = expr_series[expr_series > threshold]\n",
    "    top_genes = high_expr.sort_values(ascending=False)\n",
    "    top_genes = top_genes[top_genes.index.notna()]\n",
    "    fibroblast_expressed_genes = top_genes.index.tolist()\n",
    "    \n",
    "    fibroblast_adata = a_matrix_adata[a_matrix_adata.obs_names.isin(fibroblast_expressed_genes), a_matrix_adata.var_names.isin(fibroblast_expressed_genes)].copy()\n",
    "    \n",
    "    return fibroblast_adata"
   ]
  },
  {
   "cell_type": "code",
   "execution_count": 11,
   "id": "8c120295-cfa4-4d41-97fc-2dd301bf3aab",
   "metadata": {},
   "outputs": [
    {
     "name": "stdout",
     "output_type": "stream",
     "text": [
      "0.38259256\n"
     ]
    },
    {
     "name": "stderr",
     "output_type": "stream",
     "text": [
      "/home/nuvi/.local/lib/python3.11/site-packages/scanpy/preprocessing/_normalization.py:216: UserWarning: Received a view of an AnnData. Making a copy.\n",
      "  view_to_actual(adata)\n"
     ]
    }
   ],
   "source": []
  },
  {
   "cell_type": "code",
   "execution_count": 12,
   "id": "dd6e4e40-5ec0-4059-b7ba-1a047b783aaf",
   "metadata": {},
   "outputs": [],
   "source": [
    "thresh = 0.38259256"
   ]
  },
  {
   "cell_type": "code",
   "execution_count": 13,
   "id": "2e2dfab0-7b42-4e2f-a5d8-130be242da27",
   "metadata": {},
   "outputs": [
    {
     "name": "stderr",
     "output_type": "stream",
     "text": [
      "/home/nuvi/.local/lib/python3.11/site-packages/scanpy/preprocessing/_normalization.py:216: UserWarning: Received a view of an AnnData. Making a copy.\n",
      "  view_to_actual(adata)\n"
     ]
    },
    {
     "name": "stdout",
     "output_type": "stream",
     "text": [
      "0.38259256\n"
     ]
    }
   ],
   "source": [
    "hyb_fib = process_gex_anndata(fibroblast, fib_marker_ids, None)\n",
    "hyb_reprogrammed = process_gex_anndata(reprogrammed, None, thresh)"
   ]
  },
  {
   "cell_type": "code",
   "execution_count": 14,
   "id": "4a290d55-e21b-4234-9fe7-8a5cabc7b2fe",
   "metadata": {},
   "outputs": [
    {
     "data": {
      "text/plain": [
       "AnnData object with n_obs × n_vars = 3622 × 3622\n",
       "    layers: 'HURI', 'STRING', 'HWG_0', 'HWG_300'"
      ]
     },
     "execution_count": 14,
     "metadata": {},
     "output_type": "execute_result"
    }
   ],
   "source": [
    "hyb_reprogrammed"
   ]
  },
  {
   "cell_type": "code",
   "execution_count": 15,
   "id": "b9ac1c9d-4b56-47fb-990e-398bb4139d72",
   "metadata": {},
   "outputs": [
    {
     "data": {
      "text/plain": [
       "AnnData object with n_obs × n_vars = 2782 × 2782\n",
       "    layers: 'HURI', 'STRING', 'HWG_0', 'HWG_300'"
      ]
     },
     "execution_count": 15,
     "metadata": {},
     "output_type": "execute_result"
    }
   ],
   "source": [
    "hyb_fib"
   ]
  },
  {
   "cell_type": "code",
   "execution_count": 16,
   "id": "212caa99-10e7-41e3-b54c-1ed6ad13be33",
   "metadata": {},
   "outputs": [
    {
     "data": {
      "text/plain": [
       "AnnData object with n_obs × n_vars = 4046 × 4046\n",
       "    layers: 'HURI', 'STRING', 'HWG_0', 'HWG_300'"
      ]
     },
     "execution_count": 16,
     "metadata": {},
     "output_type": "execute_result"
    }
   ],
   "source": [
    "myotube"
   ]
  }
 ],
 "metadata": {
  "kernelspec": {
   "display_name": "HardWiredGenome",
   "language": "python",
   "name": "hardwiredgenome"
  },
  "language_info": {
   "codemirror_mode": {
    "name": "ipython",
    "version": 3
   },
   "file_extension": ".py",
   "mimetype": "text/x-python",
   "name": "python",
   "nbconvert_exporter": "python",
   "pygments_lexer": "ipython3",
   "version": "3.11.12"
  }
 },
 "nbformat": 4,
 "nbformat_minor": 5
}
