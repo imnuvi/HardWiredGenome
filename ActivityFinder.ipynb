{
 "cells": [
  {
   "cell_type": "markdown",
   "id": "c342f46c-3883-438d-8121-c1b6cadf2941",
   "metadata": {},
   "source": [
    "# B Prime matrix operations\n",
    "\n",
    "We are going to be using Alphagenome to interpret if a Transcription Factor is an activator or a repressor\n",
    "\n",
    "\n",
    "Experimental parameters:\n",
    "- How many FIMO matches we update\n",
    "- How long is a match\n",
    "- Best transcript match\n",
    "- Length of the promoter region.\n",
    "- Double sided promoter regions\n",
    "\n",
    "\n",
    "### Existing DataSets\n",
    "\n"
   ]
  },
  {
   "cell_type": "code",
   "execution_count": 1,
   "id": "f7b4333c-b9d9-4566-a529-61ee97dd310f",
   "metadata": {},
   "outputs": [
    {
     "name": "stderr",
     "output_type": "stream",
     "text": [
      "/home/nuvi/.local/lib/python3.11/site-packages/seqlogo/seqlogo.py:6: UserWarning: pkg_resources is deprecated as an API. See https://setuptools.pypa.io/en/latest/pkg_resources.html. The pkg_resources package is slated for removal as early as 2025-11-30. Refrain from using this package or pin to Setuptools<81.\n",
      "  import pkg_resources\n",
      "/home/nuvi/.local/lib/python3.11/site-packages/google/protobuf/runtime_version.py:98: UserWarning: Protobuf gencode version 5.27.2 is exactly one major version older than the runtime version 6.31.1 at alphagenome/protos/dna_model.proto. Please update the gencode to avoid compatibility violations in the next runtime release.\n",
      "  warnings.warn(\n",
      "/home/nuvi/.local/lib/python3.11/site-packages/google/protobuf/runtime_version.py:98: UserWarning: Protobuf gencode version 5.27.2 is exactly one major version older than the runtime version 6.31.1 at alphagenome/protos/tensor.proto. Please update the gencode to avoid compatibility violations in the next runtime release.\n",
      "  warnings.warn(\n",
      "/nfs/turbo/umms-indikar/Ram/conda_envs/alphagenome/lib/python3.11/site-packages/tqdm/auto.py:21: TqdmWarning: IProgress not found. Please update jupyter and ipywidgets. See https://ipywidgets.readthedocs.io/en/stable/user_install.html\n",
      "  from .autonotebook import tqdm as notebook_tqdm\n",
      "/home/nuvi/.local/lib/python3.11/site-packages/google/protobuf/runtime_version.py:98: UserWarning: Protobuf gencode version 5.27.2 is exactly one major version older than the runtime version 6.31.1 at alphagenome/protos/dna_model_service.proto. Please update the gencode to avoid compatibility violations in the next runtime release.\n",
      "  warnings.warn(\n"
     ]
    },
    {
     "name": "stdout",
     "output_type": "stream",
     "text": [
      "total master regulators from Old list: 439\n"
     ]
    },
    {
     "name": "stderr",
     "output_type": "stream",
     "text": [
      "/nfs/turbo/umms-indikar/Ram/development/projects/HardWiredGenome/mapping.py:402: UserWarning: Deprecated function, use get_TF_activity_lists instead\n",
      "  warnings.warn(\"Deprecated function, use get_TF_activity_lists instead\")\n"
     ]
    },
    {
     "name": "stdout",
     "output_type": "stream",
     "text": [
      " Total Activators : 174\n",
      "Total Reprossors : 705\n",
      "Total Conflicted : 729\n",
      "Total Transcription Factors : 1608\n",
      "Extracted 43945 mappings from 73467 ensembl lines\n",
      "Extracted 38606 mappings from gene id gtf file\n",
      "Total Mappings Extracted 59979\n",
      "TFs :  19782\n",
      "Genes :  1608\n"
     ]
    }
   ],
   "source": [
    "\n",
    "from mapping import get_sorted_gene_order, generate_gene_id_name_map, get_master_regulator_list, get_TF_lists, get_a_matrix_threshold, load_htf_motifs, generate_gene_id_name_map, load_consensus\n",
    "\n",
    "from activity_predictor import run_pipeline\n",
    "\n",
    "\n",
    "\n",
    "import matplotlib.pyplot as plt\n",
    "import os\n",
    "import pandas as pd\n",
    "import numpy as np\n",
    "import seaborn as sns"
   ]
  },
  {
   "cell_type": "code",
   "execution_count": 2,
   "id": "28fc7e09-2c98-4859-9969-73b3a51b9165",
   "metadata": {},
   "outputs": [
    {
     "name": "stdout",
     "output_type": "stream",
     "text": [
      "total master regulators from Old list: 439\n"
     ]
    },
    {
     "name": "stderr",
     "output_type": "stream",
     "text": [
      "/nfs/turbo/umms-indikar/Ram/development/projects/HardWiredGenome/mapping.py:402: UserWarning: Deprecated function, use get_TF_activity_lists instead\n",
      "  warnings.warn(\"Deprecated function, use get_TF_activity_lists instead\")\n"
     ]
    },
    {
     "name": "stdout",
     "output_type": "stream",
     "text": [
      " Total Activators : 174\n",
      "Total Reprossors : 705\n",
      "Total Conflicted : 729\n",
      "Total Transcription Factors : 1608\n",
      "Extracted 43945 mappings from 73467 ensembl lines\n",
      "Extracted 38606 mappings from gene id gtf file\n",
      "Total Mappings Extracted 59979\n"
     ]
    }
   ],
   "source": [
    "\n",
    "master_regulator_list = get_master_regulator_list()\n",
    "repressorlist, activatorlist, conflictedlist, tf_list = get_TF_activity_lists()\n",
    "\n",
    "\n",
    "gene_id_name_map, gene_name_id_map = generate_gene_id_name_map()"
   ]
  },
  {
   "cell_type": "code",
   "execution_count": 3,
   "id": "0611a1c5-848c-4667-bdc3-2167e8ad7cbb",
   "metadata": {
    "scrolled": true
   },
   "outputs": [],
   "source": [
    "# gene_target = 'ACADM'\n",
    "# gene_target_id = gene_name_id_map.get(gene_target)\n",
    "# run_pipeline(gene_target_id)"
   ]
  },
  {
   "cell_type": "code",
   "execution_count": 7,
   "id": "8bf9466c-e120-4f1d-a928-0cd05983510e",
   "metadata": {},
   "outputs": [],
   "source": [
    "csv_path = 'data/TFactivity/activator_TF_by_gene_hits.csv'\n",
    "# activator_df.to_csv(csv_path)\n",
    "\n",
    "activator_df = pd.read_csv(csv_path, index_col=\"TF\")\n",
    "\n",
    "\n",
    "csv_path = 'data/TFactivity/repressor_TF_by_gene_hits.csv'\n",
    "# repressor_df.to_csv(csv_path)\n",
    "\n",
    "repressor_df = pd.read_csv(csv_path, index_col=\"TF\")\n",
    "\n",
    "\n",
    "csv_path = 'data/TFactivity/conflicted_TF_by_gene_hits.csv'\n",
    "# conflicted_df.to_csv(csv_path)\n",
    "\n",
    "conflicted_df = pd.read_csv(csv_path, index_col=\"TF\")\n",
    "\n",
    "\n"
   ]
  },
  {
   "cell_type": "code",
   "execution_count": null,
   "id": "8a860b48-5d7f-4757-8f60-3ee79fcc1126",
   "metadata": {},
   "outputs": [],
   "source": []
  },
  {
   "cell_type": "code",
   "execution_count": 1,
   "id": "5b1eaafe-6f7a-40bc-be31-816c98b9a878",
   "metadata": {},
   "outputs": [
    {
     "name": "stderr",
     "output_type": "stream",
     "text": [
      "/home/nuvi/.local/lib/python3.11/site-packages/seqlogo/seqlogo.py:6: UserWarning: pkg_resources is deprecated as an API. See https://setuptools.pypa.io/en/latest/pkg_resources.html. The pkg_resources package is slated for removal as early as 2025-11-30. Refrain from using this package or pin to Setuptools<81.\n",
      "  import pkg_resources\n",
      "/home/nuvi/.local/lib/python3.11/site-packages/google/protobuf/runtime_version.py:98: UserWarning: Protobuf gencode version 5.27.2 is exactly one major version older than the runtime version 6.31.1 at alphagenome/protos/dna_model.proto. Please update the gencode to avoid compatibility violations in the next runtime release.\n",
      "  warnings.warn(\n",
      "/home/nuvi/.local/lib/python3.11/site-packages/google/protobuf/runtime_version.py:98: UserWarning: Protobuf gencode version 5.27.2 is exactly one major version older than the runtime version 6.31.1 at alphagenome/protos/tensor.proto. Please update the gencode to avoid compatibility violations in the next runtime release.\n",
      "  warnings.warn(\n",
      "/nfs/turbo/umms-indikar/Ram/conda_envs/alphagenome/lib/python3.11/site-packages/tqdm/auto.py:21: TqdmWarning: IProgress not found. Please update jupyter and ipywidgets. See https://ipywidgets.readthedocs.io/en/stable/user_install.html\n",
      "  from .autonotebook import tqdm as notebook_tqdm\n",
      "/home/nuvi/.local/lib/python3.11/site-packages/google/protobuf/runtime_version.py:98: UserWarning: Protobuf gencode version 5.27.2 is exactly one major version older than the runtime version 6.31.1 at alphagenome/protos/dna_model_service.proto. Please update the gencode to avoid compatibility violations in the next runtime release.\n",
      "  warnings.warn(\n"
     ]
    },
    {
     "name": "stdout",
     "output_type": "stream",
     "text": [
      "total master regulators from Old list: 439\n"
     ]
    },
    {
     "name": "stderr",
     "output_type": "stream",
     "text": [
      "/nfs/turbo/umms-indikar/Ram/development/projects/HardWiredGenome/mapping.py:402: UserWarning: Deprecated function, use get_TF_activity_lists instead\n",
      "  warnings.warn(\"Deprecated function, use get_TF_activity_lists instead\")\n"
     ]
    },
    {
     "name": "stdout",
     "output_type": "stream",
     "text": [
      " Total Activators : 174\n",
      "Total Reprossors : 705\n",
      "Total Conflicted : 729\n",
      "Total Transcription Factors : 1608\n",
      "Extracted 43945 mappings from 73467 ensembl lines\n",
      "Extracted 38606 mappings from gene id gtf file\n",
      "Total Mappings Extracted 59979\n",
      "TFs :  19782\n",
      "Genes :  1608\n"
     ]
    }
   ],
   "source": [
    "from activity_predictor import scramble_string, fetch_fasta_for_gene_id"
   ]
  },
  {
   "cell_type": "code",
   "execution_count": 2,
   "id": "831c8a77-ce9c-40ab-881e-57504e99db6c",
   "metadata": {},
   "outputs": [
    {
     "data": {
      "text/plain": [
       "'ABDCEFG'"
      ]
     },
     "execution_count": 2,
     "metadata": {},
     "output_type": "execute_result"
    }
   ],
   "source": [
    "scramble_string('ABCDEFG')"
   ]
  },
  {
   "cell_type": "code",
   "execution_count": 6,
   "id": "2a3c5e01-e4d7-478c-81c7-397f235941dd",
   "metadata": {},
   "outputs": [],
   "source": [
    "# recs, recs_1m, recs_2m = fetch_fasta_for_gene_id('ENSG00000001626')\n",
    "\n",
    "recs, recs_50kb  = fetch_fasta_for_gene_id('ENSG00000293555')\n"
   ]
  },
  {
   "cell_type": "code",
   "execution_count": 7,
   "id": "aa720460-a61c-4560-82e8-417282b9534e",
   "metadata": {},
   "outputs": [
    {
     "name": "stdout",
     "output_type": "stream",
     "text": [
      "ID: ENSG00000293555::chr15:98504382-98524382\n",
      "Name: ENSG00000293555::chr15:98504382-98524382\n",
      "Description: ENSG00000293555::chr15:98504382-98524382\n",
      "Number of features: 0\n",
      "Seq('AGAGGTACAGCTGAACTGCAAGGTTTTGGGGACAAAAAGAAACCCACGCTAAAG...GTT')\n",
      "ID: ENSG00000293555::chr15:98489382-98539382\n",
      "Name: ENSG00000293555::chr15:98489382-98539382\n",
      "Description: ENSG00000293555::chr15:98489382-98539382\n",
      "Number of features: 0\n",
      "Seq('tatacgtatatatatatacacacatatatacgtatatatatatatatacacaca...aat')\n"
     ]
    }
   ],
   "source": [
    "print(recs)\n",
    "print(recs_50kb)"
   ]
  },
  {
   "cell_type": "code",
   "execution_count": 9,
   "id": "cfc522cd-b186-4250-90cb-8d2ff1b8ce60",
   "metadata": {},
   "outputs": [
    {
     "data": {
      "text/plain": [
       "-50000"
      ]
     },
     "execution_count": 9,
     "metadata": {},
     "output_type": "execute_result"
    }
   ],
   "source": [
    "98489382-98539382\n"
   ]
  },
  {
   "cell_type": "code",
   "execution_count": null,
   "id": "9b3bdb17-23d3-4fed-b6b5-9430ce8d936a",
   "metadata": {},
   "outputs": [],
   "source": []
  }
 ],
 "metadata": {
  "kernelspec": {
   "display_name": "AlphaGenome",
   "language": "python",
   "name": "alphagenome"
  },
  "language_info": {
   "codemirror_mode": {
    "name": "ipython",
    "version": 3
   },
   "file_extension": ".py",
   "mimetype": "text/x-python",
   "name": "python",
   "nbconvert_exporter": "python",
   "pygments_lexer": "ipython3",
   "version": "3.11.13"
  }
 },
 "nbformat": 4,
 "nbformat_minor": 5
}
