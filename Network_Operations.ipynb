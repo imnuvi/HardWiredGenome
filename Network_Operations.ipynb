{
 "cells": [
  {
   "cell_type": "code",
   "execution_count": 1,
   "id": "ea9603f5-e5e6-466d-b915-20b2a2baa3e6",
   "metadata": {},
   "outputs": [],
   "source": [
    "import pandas as pd\n",
    "import numpy as np\n",
    "import anndata\n",
    "\n",
    "from scipy.ndimage import gaussian_filter\n",
    "import matplotlib.pyplot as plt\n",
    "\n",
    "import networkx as nx"
   ]
  },
  {
   "cell_type": "code",
   "execution_count": 2,
   "id": "757d936d-bd92-4f72-9ffd-75aa70fedee9",
   "metadata": {},
   "outputs": [],
   "source": [
    "from mapping import get_sorted_gene_order, generate_gene_id_name_map, get_master_regulator_list, get_TF_lists, get_a_matrix_threshold\n",
    "\n",
    "\n",
    "from constants import OPERATIONS_DIRECTORY"
   ]
  },
  {
   "cell_type": "code",
   "execution_count": 3,
   "id": "91af6714-35dc-4589-9824-8d03bde76659",
   "metadata": {},
   "outputs": [],
   "source": [
    "from network_utils import get_all_targets, get_gene_targets, get_gene_targets_multi, get_influencers, calculate_net_effect, construct_network_2d, construct_network, add_network_props, insert_perturbation, activate_perturbation, update_network, export_graph_as_json\n",
    "\n",
    "from genexpression_utils import fetch_fib_genexpression_data"
   ]
  },
  {
   "cell_type": "code",
   "execution_count": 4,
   "id": "fb9b1fd5-7719-43e4-b9a4-df250d9275a1",
   "metadata": {},
   "outputs": [
    {
     "name": "stdout",
     "output_type": "stream",
     "text": [
      " Total Activators : 174\n",
      "Total Reprossors : 705\n",
      "Total Conflicted : 729\n",
      "Total Transcription Factors : 1608\n",
      "total master regulators 439\n",
      " Total Activators : 174\n",
      "Total Reprossors : 705\n",
      "Total Conflicted : 729\n",
      "Total Transcription Factors : 1608\n",
      "Extracted 43945 mappings from 73467 ensembl lines\n",
      "Extracted 38606 mappings from gene id gtf file\n",
      "Total Mappings Extracted 59979\n",
      "ordering 18582 genes\n",
      "Extracted 43945 mappings from 73467 ensembl lines\n",
      "Extracted 38606 mappings from gene id gtf file\n",
      "Total Mappings Extracted 59979\n",
      "    gene_name    cell_type  is_tf   source    category\n",
      "697   RARRES2  fibroblasts  False  panglao  fibroblast\n",
      "698     CELA1  fibroblasts  False  panglao  fibroblast\n",
      "699       LUM  fibroblasts  False  panglao  fibroblast\n",
      "700     PRRX1  fibroblasts   True  panglao  fibroblast\n",
      "701    SCARA5  fibroblasts  False  panglao  fibroblast\n",
      "..        ...          ...    ...      ...         ...\n",
      "924    COL8A1  fibroblasts  False  panglao  fibroblast\n",
      "925      PTX3  fibroblasts  False  panglao  fibroblast\n",
      "926     CEBPB  fibroblasts   True  panglao  fibroblast\n",
      "927      PKD2  fibroblasts  False  panglao  fibroblast\n",
      "928    CTHRC1  fibroblasts  False  panglao  fibroblast\n",
      "\n",
      "[232 rows x 5 columns]\n",
      "232 232\n",
      "Index(['Fibroblast', 'EmbryonicStemCells', 'Myotube'], dtype='object', name='CellType')\n",
      "[1.16005024e-01 2.65752568e-02 1.54932552e-04 ... 1.45835302e+00\n",
      " 1.14380435e-01 1.75695089e-01]\n",
      "222\n"
     ]
    },
    {
     "name": "stderr",
     "output_type": "stream",
     "text": [
      "/home/nuvi/.local/lib/python3.11/site-packages/anndata/_core/anndata.py:1758: UserWarning: Variable names are not unique. To make them unique, call `.var_names_make_unique`.\n",
      "  utils.warn_names_duplicates(\"var\")\n"
     ]
    }
   ],
   "source": [
    "a_matrix_adata, b_matrix_true = get_a_matrix_threshold(300)\n",
    "\n",
    "b_matrix = anndata.read_h5ad('/scratch/indikar_root/indikar1/shared_data/HWG/operations/B_matrices_true.h5ad')\n",
    "\n",
    "master_regulator_list = get_master_regulator_list()\n",
    "repressorlist, activatorlist, conflictedlist, tf_list = get_TF_lists()\n",
    "\n",
    "gene_id_name_map, gene_name_id_map = generate_gene_id_name_map()\n",
    "\n",
    "genes = get_sorted_gene_order()\n",
    "\n",
    "b_matrix_true = a_matrix_adata[a_matrix_adata.obs_names.isin(tf_list)]\n",
    "\n",
    "fibroblast_adata = fetch_fib_genexpression_data(a_matrix_adata)"
   ]
  },
  {
   "cell_type": "code",
   "execution_count": 124,
   "id": "d0e9f804-69df-4051-bc95-0fb71207dd56",
   "metadata": {},
   "outputs": [],
   "source": [
    "def classify_node(row):\n",
    "    if row[\"Gene ID\"] in master_regulator_set:\n",
    "        return \"g1\"\n",
    "    elif row[\"Gene ID\"] in tf_set:\n",
    "        return \"g2\"\n",
    "    else:\n",
    "        return \"g3\"\n",
    "\n",
    "def add_name(row):\n",
    "    return gene_id_name_map.get(row[\"Gene ID\"], \"NA\")"
   ]
  },
  {
   "cell_type": "code",
   "execution_count": null,
   "id": "b71dc1c1-924a-4345-bee3-ce666e8e6545",
   "metadata": {},
   "outputs": [],
   "source": []
  },
  {
   "cell_type": "code",
   "execution_count": 7,
   "id": "741f8a57-b1ba-463e-ba66-8142a0749113",
   "metadata": {},
   "outputs": [
    {
     "data": {
      "text/plain": [
       "np.int64(999)"
      ]
     },
     "execution_count": 7,
     "metadata": {},
     "output_type": "execute_result"
    }
   ],
   "source": [
    "a_matrix_adata.layers['STRING'].max()"
   ]
  },
  {
   "cell_type": "code",
   "execution_count": 46,
   "id": "7be23d23-7690-4c6b-a9c7-06ccd2ea743f",
   "metadata": {},
   "outputs": [],
   "source": [
    "def print_network_metrics(G):\n",
    "    print(f\"Number of nodes: {G.number_of_nodes()}\")\n",
    "    print(f\"Number of edges: {G.number_of_edges()}\")\n",
    "    print(f\"Average degree: {sum(dict(G.degree()).values()) / G.number_of_nodes():.2f}\")\n",
    "    "
   ]
  },
  {
   "cell_type": "code",
   "execution_count": 1,
   "id": "8c896249-ce10-4c10-9c08-846eecaac580",
   "metadata": {},
   "outputs": [],
   "source": []
  },
  {
   "cell_type": "code",
   "execution_count": 9,
   "id": "96e05013-5147-4fc1-866d-a10d9fd75c67",
   "metadata": {},
   "outputs": [],
   "source": [
    "start, end = 12000, 13000"
   ]
  },
  {
   "cell_type": "code",
   "execution_count": 10,
   "id": "08b00ae7-3e21-4876-9d59-ca89733731d2",
   "metadata": {},
   "outputs": [],
   "source": [
    "\n",
    "\n",
    "ntype = 'base'\n",
    "\n",
    "genes_sub = genes[start:end]\n",
    "\n",
    "full_network_G = construct_network(a_matrix_adata, genes_sub, [])\n",
    "\n",
    "full_network_G = add_network_props(full_network_G, ntype)\n",
    "\n",
    "export_graph_as_json(full_network_G, f'./visualization/graphs/HWG_network{start}_{end}_{ntype}.json')"
   ]
  },
  {
   "cell_type": "code",
   "execution_count": 11,
   "id": "9166b282-3756-4464-9cd2-b3cc1334456d",
   "metadata": {},
   "outputs": [],
   "source": [
    "\n",
    "ntype = 'size'"
   ]
  },
  {
   "cell_type": "code",
   "execution_count": 12,
   "id": "02ab604e-14fa-4fa5-b7bb-701435b99f66",
   "metadata": {},
   "outputs": [],
   "source": [
    "\n",
    "\n",
    "genes_sub = genes[start:end]\n",
    "\n",
    "full_network_G = construct_network(a_matrix_adata, genes_sub, [])\n",
    "\n",
    "full_network_G = add_network_props(full_network_G, ntype)\n",
    "\n",
    "export_graph_as_json(full_network_G, f'./visualization/graphs/HWG_network{start}_{end}_{ntype}.json')"
   ]
  },
  {
   "cell_type": "code",
   "execution_count": 13,
   "id": "29be02af-7fff-46c7-9e67-ae43f35ef976",
   "metadata": {},
   "outputs": [],
   "source": [
    "\n",
    "# perturbation = ['ENSG00000129152']\n",
    "\n",
    "genes_sub = genes[start:end]\n",
    "\n",
    "full_network_G = construct_network(a_matrix_adata, fibroblast_expressed_genes, genes_sub)\n",
    "\n",
    "full_network_G = add_network_props(full_network_G, ntype)\n",
    "\n",
    "\n",
    "export_graph_as_json(full_network_G, f'./visualization/graphs/fibroblast_network{start}_{end}_{ntype}.json')"
   ]
  },
  {
   "cell_type": "code",
   "execution_count": 14,
   "id": "de3b2858-416a-4d75-8a49-8cd1faa6c468",
   "metadata": {},
   "outputs": [
    {
     "name": "stdout",
     "output_type": "stream",
     "text": [
      "Total number of targets1673\n"
     ]
    }
   ],
   "source": [
    "perturbation = ['ENSG00000129152']\n",
    "\n",
    "genes_sub = genes[start:end]\n",
    "\n",
    "full_network_G = construct_network(a_matrix_adata, fibroblast_expressed_genes, genes_sub)\n",
    "\n",
    "full_network_G = add_network_props(full_network_G, ntype)\n",
    "\n",
    "full_network_G = insert_perturbation(full_network_G, perturbation, a_matrix_adata)\n",
    "\n",
    "# full_network_G = activate_perturbation(full_network_G, perturbation, a_matrix_adata, initial=True)\n",
    "\n",
    "\n",
    "export_graph_as_json(full_network_G, f'./visualization/graphs/fibroblast_perturbed_network{start}_{end}_{ntype}.json')"
   ]
  },
  {
   "cell_type": "code",
   "execution_count": null,
   "id": "75127161-c33f-489b-ba89-c0a7213b9249",
   "metadata": {},
   "outputs": [],
   "source": [
    "all_targets = get_all_targets(a_matrix_adata, 'ENSG00000129152')\n",
    "\n",
    "\n",
    "rlist = []\n",
    "for gene in genes:\n",
    "    if gene in all_targets and gene in fibroblast_expressed_genes:\n",
    "        rlist.append(1)\n",
    "    else:\n",
    "        rlist.append(0)\n",
    "\n",
    "import matplotlib.pyplot as plt\n",
    "plt.figure(figsize=(20, 10))\n",
    "plt.bar(np.arange(len(rlist)), rlist)\n",
    "plt.title(\"Positions where TF binds to\")\n",
    "plt.show()\n"
   ]
  },
  {
   "cell_type": "code",
   "execution_count": null,
   "id": "a4062ace-340c-4e7b-bb49-f645fa86a158",
   "metadata": {},
   "outputs": [],
   "source": [
    "additional_nodes = genes[1000:2500]\n",
    "perturbation = ['ENSG00000129152']\n",
    "\n",
    "\n",
    "fib_G = construct_network(a_matrix_adata, fibroblast_expressed_genes, additional_nodes)\n",
    "fib_G = add_network_props(fib_G)\n",
    "\n",
    "perturbed_G = activate_perturbation(fib_G, perturbation, a_matrix_adata, initial=True)\n",
    "\n",
    "\n",
    "print_network_metrics(perturbed_G)\n",
    "export_graph_as_json(perturbed_G, './visualization/graphs/fibroblast_network.json')\n",
    "\n",
    "print_network_metrics(perturbed_G)\n",
    "export_graph_as_json(perturbed_G, './visualization/graphs/fibroblast_perturbed_order_1_network.json')\n"
   ]
  },
  {
   "cell_type": "code",
   "execution_count": 74,
   "id": "688b4e8f-4732-42f3-a628-14c0bcf8afe1",
   "metadata": {},
   "outputs": [
    {
     "name": "stdout",
     "output_type": "stream",
     "text": [
      "Number of nodes: 2001\n",
      "Number of edges: 4073\n",
      "Average degree: 4.07\n"
     ]
    }
   ],
   "source": [
    "print_network_metrics(fib_G)"
   ]
  },
  {
   "cell_type": "markdown",
   "id": "580807a9-dcd6-4fe3-aff3-c821c602baa1",
   "metadata": {},
   "source": [
    "# 2d Network construction"
   ]
  },
  {
   "cell_type": "code",
   "execution_count": null,
   "id": "3824902e-6646-4c83-bb99-3967ed79a0e6",
   "metadata": {},
   "outputs": [],
   "source": [
    "\n",
    "\n",
    "ntype = 'base'\n",
    "\n",
    "genes_sub = genes[start:end]\n",
    "\n",
    "full_network_G = construct_network(a_matrix_adata, genes_sub, [])\n",
    "\n",
    "full_network_G = add_network_props(full_network_G, ntype)\n",
    "\n",
    "export_graph_as_json(full_network_G, f'./visualization/graphs/HWG_network{start}_{end}_{ntype}.json')"
   ]
  },
  {
   "cell_type": "code",
   "execution_count": 46,
   "id": "8bb5b2e7-7edb-4fd8-b243-7b58e04404e5",
   "metadata": {},
   "outputs": [],
   "source": [
    "a_matrix_adata = get_a_matrix_threshold(150)"
   ]
  },
  {
   "cell_type": "code",
   "execution_count": 47,
   "id": "37796f0f-a207-43a9-a7a7-5038e638940d",
   "metadata": {},
   "outputs": [
    {
     "name": "stdout",
     "output_type": "stream",
     "text": [
      "13566588\n",
      "13757695\n"
     ]
    }
   ],
   "source": [
    "print((a_matrix_adata.X == 1).sum())\n",
    "print((a_matrix_adata.layers['HWG_0'] == 1).sum())"
   ]
  },
  {
   "cell_type": "code",
   "execution_count": 48,
   "id": "822cdfd8-602b-441e-8a4a-5f40f34d6aed",
   "metadata": {},
   "outputs": [],
   "source": [
    "\n",
    "\n",
    "ntype = 'base'\n",
    "\n",
    "genes_sub = genes\n",
    "\n",
    "full_network_G = construct_network(a_matrix_adata, list(a_matrix_adata.obs_names), [])\n",
    "\n",
    "# full_network_G = add_network_props(full_network_G, ntype)\n",
    "\n",
    "degree_centralities = nx.degree_centrality(full_network_G)\n",
    "eigenvector_centralities = nx.eigenvector_centrality(full_network_G)\n",
    "# export_graph_as_json(full_network_G, f'./visualization/graphs/HWG_network{start}_{end}_{ntype}.json')"
   ]
  },
  {
   "cell_type": "code",
   "execution_count": 49,
   "id": "1d992f88-0f00-4050-a001-83c03f706301",
   "metadata": {},
   "outputs": [
    {
     "data": {
      "text/html": [
       "<div>\n",
       "<style scoped>\n",
       "    .dataframe tbody tr th:only-of-type {\n",
       "        vertical-align: middle;\n",
       "    }\n",
       "\n",
       "    .dataframe tbody tr th {\n",
       "        vertical-align: top;\n",
       "    }\n",
       "\n",
       "    .dataframe thead th {\n",
       "        text-align: right;\n",
       "    }\n",
       "</style>\n",
       "<table border=\"1\" class=\"dataframe\">\n",
       "  <thead>\n",
       "    <tr style=\"text-align: right;\">\n",
       "      <th></th>\n",
       "      <th>gene</th>\n",
       "      <th>gene_name</th>\n",
       "    </tr>\n",
       "  </thead>\n",
       "  <tbody>\n",
       "    <tr>\n",
       "      <th>0</th>\n",
       "      <td>ENSG00000000457</td>\n",
       "      <td>SCYL3</td>\n",
       "    </tr>\n",
       "    <tr>\n",
       "      <th>1</th>\n",
       "      <td>ENSG00000000460</td>\n",
       "      <td>FIRRM</td>\n",
       "    </tr>\n",
       "    <tr>\n",
       "      <th>2</th>\n",
       "      <td>ENSG00000000938</td>\n",
       "      <td>FGR</td>\n",
       "    </tr>\n",
       "    <tr>\n",
       "      <th>3</th>\n",
       "      <td>ENSG00000000971</td>\n",
       "      <td>CFH</td>\n",
       "    </tr>\n",
       "    <tr>\n",
       "      <th>4</th>\n",
       "      <td>ENSG00000001460</td>\n",
       "      <td>STPG1</td>\n",
       "    </tr>\n",
       "    <tr>\n",
       "      <th>...</th>\n",
       "      <td>...</td>\n",
       "      <td>...</td>\n",
       "    </tr>\n",
       "    <tr>\n",
       "      <th>18577</th>\n",
       "      <td>ENSG00000284554</td>\n",
       "      <td>NA</td>\n",
       "    </tr>\n",
       "    <tr>\n",
       "      <th>18578</th>\n",
       "      <td>ENSG00000285025</td>\n",
       "      <td>MIURF</td>\n",
       "    </tr>\n",
       "    <tr>\n",
       "      <th>18579</th>\n",
       "      <td>ENSG00000285304</td>\n",
       "      <td>NA</td>\n",
       "    </tr>\n",
       "    <tr>\n",
       "      <th>18580</th>\n",
       "      <td>ENSG00000285404</td>\n",
       "      <td>NA</td>\n",
       "    </tr>\n",
       "    <tr>\n",
       "      <th>18581</th>\n",
       "      <td>ENSG00000286070</td>\n",
       "      <td>NA</td>\n",
       "    </tr>\n",
       "  </tbody>\n",
       "</table>\n",
       "<p>18582 rows × 2 columns</p>\n",
       "</div>"
      ],
      "text/plain": [
       "                  gene gene_name\n",
       "0      ENSG00000000457     SCYL3\n",
       "1      ENSG00000000460     FIRRM\n",
       "2      ENSG00000000938       FGR\n",
       "3      ENSG00000000971       CFH\n",
       "4      ENSG00000001460     STPG1\n",
       "...                ...       ...\n",
       "18577  ENSG00000284554        NA\n",
       "18578  ENSG00000285025     MIURF\n",
       "18579  ENSG00000285304        NA\n",
       "18580  ENSG00000285404        NA\n",
       "18581  ENSG00000286070        NA\n",
       "\n",
       "[18582 rows x 2 columns]"
      ]
     },
     "execution_count": 49,
     "metadata": {},
     "output_type": "execute_result"
    }
   ],
   "source": [
    "def add_gene_name(row):\n",
    "    return gene_id_name_map.get(row['gene'], 'NA')\n",
    "\n",
    "gene_df = pd.DataFrame(genes_sub)\n",
    "gene_df['gene'] = gene_df[0]\n",
    "gene_df['gene_name'] = gene_df.apply(add_gene_name, axis=1)\n",
    "gene_df = gene_df.drop(columns=0)\n",
    "\n",
    "gene_df"
   ]
  },
  {
   "cell_type": "code",
   "execution_count": 50,
   "id": "b0b6b8d3-e070-4eb8-8a50-09d665ba5cc2",
   "metadata": {},
   "outputs": [],
   "source": [
    "sorted_eigenvector_centrality = {k: v for k, v in sorted(eigenvector_centralities.items(), key=lambda item: item[1])}\n",
    "sorted_degree_centrality = {k: v for k, v in sorted(degree_centralities.items(), key=lambda item: item[1])}\n",
    "\n",
    "eigenvector_df = pd.DataFrame(list(sorted_eigenvector_centrality.items()), columns=['gene', 'EigenvectorCentrality'])\n",
    "eigenvector_df['EigenVectorRank'] = eigenvector_df['EigenvectorCentrality'].rank(ascending=False, method='min').astype(int)\n",
    "\n",
    "degree_df = pd.DataFrame(list(sorted_degree_centrality.items()), columns=['gene', 'DegreeCentrality'])\n",
    "degree_df['DegreeRank'] = degree_df['DegreeCentrality'].rank(ascending=False, method='min').astype(int)\n",
    "\n",
    "\n",
    "\n",
    "# print(list(sorted_eigenvector_centrality.items())[:100])\n"
   ]
  },
  {
   "cell_type": "code",
   "execution_count": 52,
   "id": "4efaf73e-4494-47f9-9120-2b3209bb0c3a",
   "metadata": {},
   "outputs": [
    {
     "name": "stdout",
     "output_type": "stream",
     "text": [
      "                  gene  EigenvectorCentrality  EigenVectorRank  \\\n",
      "0      ENSG00000000003               0.002293            12345   \n",
      "1      ENSG00000000005               0.002907            10808   \n",
      "2      ENSG00000000419               0.011433             2038   \n",
      "3      ENSG00000000457               0.001023            16307   \n",
      "4      ENSG00000000460               0.003017            10531   \n",
      "...                ...                    ...              ...   \n",
      "19673  ENSG00000288380               0.002613            11542   \n",
      "19674  ENSG00000288436               0.000163            19352   \n",
      "19675  ENSG00000288520               0.000776            17167   \n",
      "19676  ENSG00000288547               0.000156            19365   \n",
      "19677  ENSG00000288558               0.001040            16245   \n",
      "\n",
      "       DegreeCentrality  DegreeRank     gene_name  \n",
      "0              0.023073       11498           NaN  \n",
      "1              0.017991       13627           NaN  \n",
      "2              0.081313        1368          DPM1  \n",
      "3              0.009554       17163         SCYL3  \n",
      "4              0.022869       11584         FIRRM  \n",
      "...                 ...         ...           ...  \n",
      "19673          0.020887       12377           NaN  \n",
      "19674          0.000915       19543           NaN  \n",
      "19675          0.009961       17003            NA  \n",
      "19676          0.002541       19277           NaN  \n",
      "19677          0.010723       16706  DUS4L-BCAP29  \n",
      "\n",
      "[19678 rows x 6 columns]\n"
     ]
    }
   ],
   "source": [
    "all_degree_df = pd.merge(eigenvector_df, degree_df, on='gene', how='outer')\n",
    "final_degree_df = pd.merge(all_degree_df, gene_df, on='gene', how='outer')\n",
    "print(final_degree_df)\n",
    "\n",
    "# final_degree_df.to_csv('data/Centrality_measures/centralities_thr_150.csv')"
   ]
  },
  {
   "cell_type": "code",
   "execution_count": 53,
   "id": "24aa5161-9f03-4acd-8cb5-03048c0cb5b5",
   "metadata": {},
   "outputs": [],
   "source": [
    "final_degree_df_150 = pd.read_csv('data/Centrality_measures/centralities_thr_150.csv')\n",
    "final_degree_df_300 = pd.read_csv('data/Centrality_measures/centralities_thr_300.csv')\n",
    "final_degree_df_600 = pd.read_csv('data/Centrality_measures/centralities_thr_600.csv')"
   ]
  },
  {
   "cell_type": "code",
   "execution_count": null,
   "id": "3d9191ee-cba0-4f29-91c4-22d408c05bc1",
   "metadata": {},
   "outputs": [],
   "source": []
  },
  {
   "cell_type": "code",
   "execution_count": 55,
   "id": "a63378b2-be7d-4ff1-abae-2653dd1ad0c8",
   "metadata": {},
   "outputs": [
    {
     "name": "stdout",
     "output_type": "stream",
     "text": [
      "MYOD Ranking with Threshold: 150, Degree Centrality: 1226 , Eigenvector Centrality: 1058\n",
      "MYOD Ranking with Threshold: 300, Degree Centrality: 1015 , Eigenvector Centrality: 970\n",
      "MYOD Ranking with Threshold 600, Degree Centrality: 1804 , Eigenvector Centrality: 2514\n"
     ]
    },
    {
     "name": "stderr",
     "output_type": "stream",
     "text": [
      "/tmp/ipykernel_316234/2803623206.py:2: FutureWarning: Calling int on a single element Series is deprecated and will raise a TypeError in the future. Use int(ser.iloc[0]) instead\n",
      "  print(f\"MYOD Ranking with Threshold: 150, Degree Centrality: {int(dat_150.DegreeRank)} , Eigenvector Centrality: {int(dat_150.EigenVectorRank)}\")\n",
      "/tmp/ipykernel_316234/2803623206.py:6: FutureWarning: Calling int on a single element Series is deprecated and will raise a TypeError in the future. Use int(ser.iloc[0]) instead\n",
      "  print(f\"MYOD Ranking with Threshold: 300, Degree Centrality: {int(dat_300.DegreeRank)} , Eigenvector Centrality: {int(dat_300.EigenVectorRank)}\")\n",
      "/tmp/ipykernel_316234/2803623206.py:9: FutureWarning: Calling int on a single element Series is deprecated and will raise a TypeError in the future. Use int(ser.iloc[0]) instead\n",
      "  print(f\"MYOD Ranking with Threshold 600, Degree Centrality: {int(dat_600.DegreeRank)} , Eigenvector Centrality: {int(dat_600.EigenVectorRank)}\")\n"
     ]
    }
   ],
   "source": [
    "dat_150 = final_degree_df_150[final_degree_df_150['gene_name'] == 'MYOD1']\n",
    "print(f\"MYOD Ranking with Threshold: 150, Degree Centrality: {int(dat_150.DegreeRank)} , Eigenvector Centrality: {int(dat_150.EigenVectorRank)}\")\n",
    "\n",
    "\n",
    "dat_300 = final_degree_df_300[final_degree_df_300['gene_name'] == 'MYOD1']\n",
    "print(f\"MYOD Ranking with Threshold: 300, Degree Centrality: {int(dat_300.DegreeRank)} , Eigenvector Centrality: {int(dat_300.EigenVectorRank)}\")\n",
    "\n",
    "\n",
    "dat_600 = final_degree_df_600[final_degree_df_600['gene_name'] == 'MYOD1']\n",
    "print(f\"MYOD Ranking with Threshold 600, Degree Centrality: {int(dat_600.DegreeRank)} , Eigenvector Centrality: {int(dat_600.EigenVectorRank)}\")\n"
   ]
  },
  {
   "cell_type": "code",
   "execution_count": 45,
   "id": "b6d8368e-0e54-48dd-b1b8-6d47ba19c5da",
   "metadata": {},
   "outputs": [
    {
     "data": {
      "text/html": [
       "<div>\n",
       "<style scoped>\n",
       "    .dataframe tbody tr th:only-of-type {\n",
       "        vertical-align: middle;\n",
       "    }\n",
       "\n",
       "    .dataframe tbody tr th {\n",
       "        vertical-align: top;\n",
       "    }\n",
       "\n",
       "    .dataframe thead th {\n",
       "        text-align: right;\n",
       "    }\n",
       "</style>\n",
       "<table border=\"1\" class=\"dataframe\">\n",
       "  <thead>\n",
       "    <tr style=\"text-align: right;\">\n",
       "      <th></th>\n",
       "      <th>gene</th>\n",
       "      <th>EigenvectorCentrality</th>\n",
       "      <th>EigenVectorRank</th>\n",
       "      <th>DegreeCentrality</th>\n",
       "      <th>DegreeRank</th>\n",
       "      <th>gene_name</th>\n",
       "    </tr>\n",
       "  </thead>\n",
       "  <tbody>\n",
       "    <tr>\n",
       "      <th>12679</th>\n",
       "      <td>ENSG00000170889</td>\n",
       "      <td>0.084994</td>\n",
       "      <td>1</td>\n",
       "      <td>0.024191</td>\n",
       "      <td>43</td>\n",
       "      <td>RPS9</td>\n",
       "    </tr>\n",
       "  </tbody>\n",
       "</table>\n",
       "</div>"
      ],
      "text/plain": [
       "                  gene  EigenvectorCentrality  EigenVectorRank  \\\n",
       "12679  ENSG00000170889               0.084994                1   \n",
       "\n",
       "       DegreeCentrality  DegreeRank gene_name  \n",
       "12679          0.024191          43      RPS9  "
      ]
     },
     "execution_count": 45,
     "metadata": {},
     "output_type": "execute_result"
    }
   ],
   "source": [
    "final_degree_df[final_degree_df['EigenVectorRank'] == 1]"
   ]
  },
  {
   "cell_type": "code",
   "execution_count": 51,
   "id": "a74532d5-85ee-4168-8314-b00bbbb09736",
   "metadata": {},
   "outputs": [
    {
     "name": "stdout",
     "output_type": "stream",
     "text": [
      "Gene GAPDH : Centrality 0.48205155804316235\n",
      "Gene ACTB : Centrality 0.40073193046660566\n",
      "Gene TP53 : Centrality 0.3827027608847748\n",
      "Gene AKT1 : Centrality 0.3695710672192024\n",
      "Gene MYC : Centrality 0.3689252462192562\n",
      "Gene CTNNB1 : Centrality 0.32247995263979334\n",
      "Gene EGFR : Centrality 0.3006296754749475\n",
      "Gene INS : Centrality 0.28808998439265915\n",
      "Gene ALB : Centrality 0.28173941122652174\n",
      "Gene JUN : Centrality 0.28163177439319736\n",
      "Gene TNF : Centrality 0.26801571497766535\n",
      "Gene HSP90AA1 : Centrality 0.26688552822775957\n",
      "Gene HSP90AB1 : Centrality 0.26193423389483883\n",
      "Gene KRAS : Centrality 0.26107313922824393\n",
      "Gene MAPK3 : Centrality 0.2581131263118239\n",
      "Gene HSPA4 : Centrality 0.253700016145525\n",
      "Gene PXDN : Centrality 0.2517087347290243\n",
      "Gene SRC : Centrality 0.2514396426457134\n",
      "Gene PTEN : Centrality 0.2486949033959421\n",
      "Gene NFKB1 : Centrality 0.24729562456272536\n"
     ]
    }
   ],
   "source": [
    "centrality_list = list(sortedcentrality.items())[::-1]\n",
    "\n",
    "for top_gene, top_centrality in centrality_list[:20]:\n",
    "    print(f'Gene {gene_id_name_map.get(top_gene)} : Centrality {top_centrality}')\n",
    "    "
   ]
  },
  {
   "cell_type": "code",
   "execution_count": 26,
   "id": "d44e2e5b-031d-4c30-817d-d53dbad06336",
   "metadata": {},
   "outputs": [
    {
     "data": {
      "text/plain": [
       "np.int64(106)"
      ]
     },
     "execution_count": 26,
     "metadata": {},
     "output_type": "execute_result"
    }
   ],
   "source": [
    "# GAPHDH\n",
    "(a_matrix_adata.X[::, a_matrix_adata.var_names == 'ENSG00000111640'].toarray() == 1).sum()\n",
    "\n",
    "# MYOD\n",
    "(a_matrix_adata.X[::, a_matrix_adata.var_names == 'ENSG00000129152'].toarray() == 1).sum()"
   ]
  },
  {
   "cell_type": "code",
   "execution_count": 16,
   "id": "0f233a54-46ac-4ad2-bdde-249b539abedc",
   "metadata": {},
   "outputs": [
    {
     "name": "stdout",
     "output_type": "stream",
     "text": [
      "ordering 18582 genes\n"
     ]
    }
   ],
   "source": [
    "\n",
    "\n",
    "degree_centrality = nx.degree_centrality(fib_G)\n",
    "eigenvector_centrality = nx.eigenvector_centrality(fib_G)\n"
   ]
  },
  {
   "cell_type": "code",
   "execution_count": 151,
   "id": "6dc0b0b8-4bd7-492e-be47-9af61135c15b",
   "metadata": {},
   "outputs": [
    {
     "name": "stdout",
     "output_type": "stream",
     "text": [
      "Index(['ENSG00000001167', 'ENSG00000005513', 'ENSG00000005889',\n",
      "       'ENSG00000006194', 'ENSG00000006468', 'ENSG00000007866',\n",
      "       'ENSG00000010244', 'ENSG00000020633', 'ENSG00000028277',\n",
      "       'ENSG00000043039',\n",
      "       ...\n",
      "       'ENSG00000230797', 'ENSG00000244405', 'ENSG00000245848',\n",
      "       'ENSG00000257923', 'ENSG00000260596', 'ENSG00000261678',\n",
      "       'ENSG00000266265', 'ENSG00000269404', 'ENSG00000272333',\n",
      "       'ENSG00000276644'],\n",
      "      dtype='object', name='TFStableID', length=370) -81\n"
     ]
    }
   ],
   "source": [
    "def get_influencers(b_matrix, gene_target):\n",
    "    global repressorlist, activatorlist, conflictedlist, master_regulator_list\n",
    "    \n",
    "    # Transcription factors influencing a Gene \n",
    "    gene_index = b_matrix.var_names == gene_target\n",
    "    gene_cols = b_matrix.X[:, gene_index].copy()\n",
    "    \n",
    "    if hasattr(gene_cols, \"toarray\"):\n",
    "        gene_cols = gene_cols.toarray().ravel()\n",
    "    else:\n",
    "        gene_cols = gene_cols.ravel()\n",
    "    \n",
    "    matching_obs_mask = gene_cols == 1\n",
    "    \n",
    "    gene_influencers = b_matrix.obs_names[matching_obs_mask]\n",
    "\n",
    "    net_effect = 0\n",
    "    for gene_influencer in gene_influencers:\n",
    "        if gene_influencer in activatorlist:\n",
    "            net_effect += 1\n",
    "        elif gene_influencer in repressorlist:\n",
    "            net_effect -= 1\n",
    "    \n",
    "    # activations.X\n",
    "    return gene_influencers, net_effect\n",
    "\n",
    "current_influencers, net_effect = get_influencers(b_matrix, 'ENSG00000001167')\n",
    "print(current_influencers, net_effect)"
   ]
  },
  {
   "cell_type": "code",
   "execution_count": null,
   "id": "6fceedb4-553f-46bc-a79a-8e3bfcec4226",
   "metadata": {},
   "outputs": [],
   "source": []
  },
  {
   "cell_type": "code",
   "execution_count": 158,
   "id": "d3805729-fea0-45ec-9a2e-a9f98a98e50a",
   "metadata": {},
   "outputs": [
    {
     "name": "stdout",
     "output_type": "stream",
     "text": [
      "fibroblast specific\n",
      "net positive 0\n",
      "net negative 0\n",
      "net neutral 19782\n",
      "all cell types\n",
      "net positive 891\n",
      "net negative 18561\n",
      "net neutral 330\n"
     ]
    }
   ],
   "source": [
    "additional_nodes = genes\n",
    "perturbation = ['ENSG00000129152']\n",
    "\n",
    "\n",
    "fib_G = construct_network(a_matrix_adata, fibroblast_expressed_genes, additional_nodes)\n",
    "\n",
    "\n",
    "perturblist = 'ENSG00000129152'\n",
    "# nodelist = list(fib_G.nodes)\n",
    "# targetset = get_gene_targets(b_matrix, perturblist, fibroblast_expressed_genes)\n",
    "targetset = b_matrix.var_names\n",
    "\n",
    "\n",
    "netr = []\n",
    "totr = []\n",
    "for target in targetset:\n",
    "    current_influencers = fib_G.edges(target)\n",
    "\n",
    "    net_effect = calculate_net_effect(current_influencers)\n",
    "    netr.append(net_effect)\n",
    "    \n",
    "    current_influencers, net_effect = get_influencers(b_matrix, target)\n",
    "    totr.append(net_effect)\n",
    "\n",
    "print('fibroblast specific')\n",
    "print(f'net positive {len([i for i in netr if i > 0])}')\n",
    "print(f'net negative {len([i for i in netr if i < 0])}')\n",
    "print(f'net neutral {len([i for i in netr if i == 0])}')\n",
    "\n",
    "print('all cell types')\n",
    "print(f'net positive {len([i for i in totr if i > 0])}')\n",
    "print(f'net negative {len([i for i in totr if i < 0])}')\n",
    "print(f'net neutral {len([i for i in totr if i == 0])}')\n",
    "\n",
    "# fibroblast_expressed_genes\n",
    "\n",
    "# gene_target = 'ENSG00000001167'\n",
    "# print(get_influencers(b_matrix, gene_target))\n"
   ]
  },
  {
   "cell_type": "code",
   "execution_count": 162,
   "id": "87fe6a5e-4a6c-4313-b97d-314af27779cc",
   "metadata": {},
   "outputs": [
    {
     "name": "stdout",
     "output_type": "stream",
     "text": [
      " Total Activators : 174\n",
      "Total Reprossors : 705\n",
      "Total Conflicted : 729\n",
      "Total Transcription Factors : 1608\n"
     ]
    }
   ],
   "source": [
    "print(f' Total Activators : {len(activatorlist)}')\n",
    "print(f'Total Reprossors : {len(repressorlist)}')\n",
    "print(f'Total Conflicted : {len(conflictedlist)}')\n",
    "\n",
    "print(f'Total Transcription Factors : {len(tf_list)}')"
   ]
  },
  {
   "cell_type": "code",
   "execution_count": 34,
   "id": "7f31efff-a2e3-4cf6-b5f2-b817c6b357ae",
   "metadata": {},
   "outputs": [
    {
     "name": "stdout",
     "output_type": "stream",
     "text": [
      "ordering 18582 genes\n"
     ]
    }
   ],
   "source": [
    "# Full network\n",
    "G = construct_network(a_matrix_adata, list(a_matrix_adata.obs_names))\n",
    "G = add_network_props(G)\n",
    "\n",
    "degree_centrality = nx.degree_centrality(G)\n",
    "# eigenvector_centrality = nx.eigenvector_centrality(G)\n"
   ]
  },
  {
   "cell_type": "code",
   "execution_count": 138,
   "id": "52e2936f-3b02-45d1-a013-6f4fb583e687",
   "metadata": {},
   "outputs": [
    {
     "name": "stdout",
     "output_type": "stream",
     "text": [
      "Index(['ENSG00000000005', 'ENSG00000001084', 'ENSG00000001167',\n",
      "       'ENSG00000002586', 'ENSG00000002745', 'ENSG00000004487',\n",
      "       'ENSG00000004799', 'ENSG00000004948', 'ENSG00000004975',\n",
      "       'ENSG00000005007',\n",
      "       ...\n",
      "       'ENSG00000274618', 'ENSG00000275063', 'ENSG00000275663',\n",
      "       'ENSG00000275714', 'ENSG00000276043', 'ENSG00000276644',\n",
      "       'ENSG00000277586', 'ENSG00000278259', 'ENSG00000285441',\n",
      "       'ENSG00000285708'],\n",
      "      dtype='object', length=1673)\n",
      "1673 Index(['ENSG00000000005', 'ENSG00000001084', 'ENSG00000001167',\n",
      "       'ENSG00000002586', 'ENSG00000002745', 'ENSG00000004487',\n",
      "       'ENSG00000004799', 'ENSG00000004948', 'ENSG00000004975',\n",
      "       'ENSG00000005007',\n",
      "       ...\n",
      "       'ENSG00000274618', 'ENSG00000275063', 'ENSG00000275663',\n",
      "       'ENSG00000275714', 'ENSG00000276043', 'ENSG00000276644',\n",
      "       'ENSG00000277586', 'ENSG00000278259', 'ENSG00000285441',\n",
      "       'ENSG00000285708'],\n",
      "      dtype='object', length=1673)\n"
     ]
    }
   ],
   "source": [
    "perturb = 'ENSG00000129152'\n",
    "targetset = get_gene_targets(a_matrix_adata, perturb, a_matrix_adata.obs_names)\n",
    "print(len(targetset), targetset)\n",
    "\n",
    "\n",
    "# gene_target = 'ENSG00000001167'\n",
    "# print(get_influencers(b_matrix, gene_target))\n"
   ]
  },
  {
   "cell_type": "code",
   "execution_count": 38,
   "id": "e12b972f-6b6a-45ba-babf-964672cd1dcc",
   "metadata": {},
   "outputs": [],
   "source": [
    "nodes_of_interest = targetset\n",
    "filtered_centrality = {node: degree_centrality[node] for node in nodes_of_interest if node in degree_centrality}\n",
    "\n",
    "sorted_filtered = sorted(filtered_centrality.items(), key=lambda x: x[1], reverse=True)\n",
    "\n",
    "first_order_interaction_df = pd.DataFrame([(i[0], round(i[1], 3)) for i in sorted_filtered[:100]])"
   ]
  },
  {
   "cell_type": "code",
   "execution_count": 45,
   "id": "f59f74de-77b0-4ad0-afd1-0ffa1a3ad538",
   "metadata": {},
   "outputs": [],
   "source": [
    "first_order_interaction_df['Gene ID'] = first_order_interaction_df[0]\n",
    "first_order_interaction_df['Degree Centrality'] = first_order_interaction_df[1]\n",
    "\n",
    "first_order_interaction_df[\"Gene Type\"] = first_order_interaction_df.apply(classify_node, axis=1)\n",
    "first_order_interaction_df[\"Gene Name\"] = first_order_interaction_df.apply(add_name, axis=1)\n",
    "\n",
    "first_order_interaction_df = first_order_interaction_df.drop(columns=[0, 1])\n",
    "                                         # , 'Fibroblast Gene ID', 'Fibroblast Degree Centrality'])"
   ]
  },
  {
   "cell_type": "code",
   "execution_count": 46,
   "id": "d0160d6d-f853-43af-bae4-b92adf729575",
   "metadata": {},
   "outputs": [],
   "source": [
    "first_order_interaction_df.to_csv('./data/All_Cells_Top_100_Myod_interactions.csv')"
   ]
  },
  {
   "cell_type": "code",
   "execution_count": 66,
   "id": "19d30d60-2cc9-4ff7-a3e4-c5880cda6a07",
   "metadata": {},
   "outputs": [
    {
     "name": "stdout",
     "output_type": "stream",
     "text": [
      "13338\n"
     ]
    }
   ],
   "source": [
    "targetset = get_gene_targets(b_matrix, perturblist, a_matrix_adata.obs_names)\n",
    "print(len(targetset))\n",
    "\n",
    "for target in targetset[:100]:\n",
    "    deg"
   ]
  },
  {
   "cell_type": "code",
   "execution_count": 54,
   "id": "33dc266a-1765-44e6-9694-41525a1b0681",
   "metadata": {},
   "outputs": [],
   "source": [
    "first_order_interaction_df = pd.read_csv('./data/Fibroblast_Top_100_Myod_interactions.csv', index_col=0)\n",
    "\n",
    "first_order_interaction_df = first_order_interaction_df.drop(columns=['Fibroblast Gene ID', 'Fibroblast Degree Centrality'])\n",
    "\n",
    "\n",
    "first_order_interaction_df.to_csv('./data/Fibroblast_Top_100_Myod_interactions.csv')"
   ]
  },
  {
   "cell_type": "code",
   "execution_count": 26,
   "id": "6b8ce052-0bb2-42f5-bad5-08e6cd0ee070",
   "metadata": {},
   "outputs": [],
   "source": [
    "def classify_node(row):\n",
    "    if row[\"Gene ID\"] in master_regulator_set:\n",
    "        return \"g1\"\n",
    "    elif row[\"Gene ID\"] in tf_set:\n",
    "        return \"g2\"\n",
    "    else:\n",
    "        return \"g3\"\n",
    "\n",
    "def add_centrality(row):\n",
    "    global degree_centrality\n",
    "    return round(degree_centrality.get(row['Gene ID']), 3)\n",
    "def add_eigenvector_centrality(row):    \n",
    "    global eigenvector_centrality\n",
    "    \n",
    "    return round(eigenvector_centrality.get(row['Gene ID']), 3)\n",
    "    \n",
    "    \n",
    "    \n",
    "def add_name(row):\n",
    "    return gene_id_name_map.get(row[\"Gene ID\"], \"NA\")"
   ]
  },
  {
   "cell_type": "code",
   "execution_count": 38,
   "id": "0d4e01f8-88e6-4082-878d-cd09a4406a3f",
   "metadata": {},
   "outputs": [],
   "source": [
    "first_order_interaction_df = pd.DataFrame(targetset)\n",
    "\n",
    "\n",
    "first_order_interaction_df['Gene ID'] = first_order_interaction_df['GeneStableID']\n",
    "first_order_interaction_df.drop('GeneStableID', axis=1)\n",
    "\n",
    "first_order_interaction_df[\"Gene Type\"] = first_order_interaction_df.apply(classify_node, axis=1)\n",
    "first_order_interaction_df[\"Gene Name\"] = first_order_interaction_df.apply(add_name, axis=1)\n",
    "\n",
    "first_order_interaction_df[\"Degree Centrality\"] = first_order_interaction_df.apply(add_centrality, axis=1)\n",
    "\n",
    "first_order_interaction_df[\"Eigenvector Centrality\"] = first_order_interaction_df.apply(add_eigenvector_centrality, axis=1)\n"
   ]
  },
  {
   "cell_type": "code",
   "execution_count": 41,
   "id": "d977a752-eb88-406d-9968-3a6af1d66786",
   "metadata": {},
   "outputs": [],
   "source": [
    "\n",
    "\n",
    "first_order_interaction_df_desc = first_order_interaction_df.sort_values(by='Degree Centrality', ascending=False)"
   ]
  },
  {
   "cell_type": "code",
   "execution_count": 44,
   "id": "1c2809e2-6b8d-420d-b870-a794ce855ba3",
   "metadata": {},
   "outputs": [],
   "source": [
    "first_order_interaction_df_desc.to_csv('./data/myod_first_order_interaction_targets_v3.csv')"
   ]
  },
  {
   "cell_type": "code",
   "execution_count": 45,
   "id": "90c1cfc0-baa3-4f1e-a153-6f1664f54bbf",
   "metadata": {},
   "outputs": [
    {
     "data": {
      "text/html": [
       "<div>\n",
       "<style scoped>\n",
       "    .dataframe tbody tr th:only-of-type {\n",
       "        vertical-align: middle;\n",
       "    }\n",
       "\n",
       "    .dataframe tbody tr th {\n",
       "        vertical-align: top;\n",
       "    }\n",
       "\n",
       "    .dataframe thead th {\n",
       "        text-align: right;\n",
       "    }\n",
       "</style>\n",
       "<table border=\"1\" class=\"dataframe\">\n",
       "  <thead>\n",
       "    <tr style=\"text-align: right;\">\n",
       "      <th></th>\n",
       "      <th>GeneStableID</th>\n",
       "      <th>Gene ID</th>\n",
       "      <th>Gene Type</th>\n",
       "      <th>Gene Name</th>\n",
       "      <th>Degree Centrality</th>\n",
       "      <th>Eigenvector Centrality</th>\n",
       "    </tr>\n",
       "    <tr>\n",
       "      <th>GeneStableIDVersion</th>\n",
       "      <th></th>\n",
       "      <th></th>\n",
       "      <th></th>\n",
       "      <th></th>\n",
       "      <th></th>\n",
       "      <th></th>\n",
       "    </tr>\n",
       "  </thead>\n",
       "  <tbody>\n",
       "    <tr>\n",
       "      <th>ENSG00000111640.15</th>\n",
       "      <td>ENSG00000111640</td>\n",
       "      <td>ENSG00000111640</td>\n",
       "      <td>g3</td>\n",
       "      <td>GAPDH</td>\n",
       "      <td>0.688</td>\n",
       "      <td>0.071</td>\n",
       "    </tr>\n",
       "    <tr>\n",
       "      <th>ENSG00000075624.17</th>\n",
       "      <td>ENSG00000075624</td>\n",
       "      <td>ENSG00000075624</td>\n",
       "      <td>g3</td>\n",
       "      <td>ACTB</td>\n",
       "      <td>0.617</td>\n",
       "      <td>0.066</td>\n",
       "    </tr>\n",
       "    <tr>\n",
       "      <th>ENSG00000142208.19</th>\n",
       "      <td>ENSG00000142208</td>\n",
       "      <td>ENSG00000142208</td>\n",
       "      <td>g3</td>\n",
       "      <td>AKT1</td>\n",
       "      <td>0.539</td>\n",
       "      <td>0.054</td>\n",
       "    </tr>\n",
       "    <tr>\n",
       "      <th>ENSG00000080824.19</th>\n",
       "      <td>ENSG00000080824</td>\n",
       "      <td>ENSG00000080824</td>\n",
       "      <td>g3</td>\n",
       "      <td>HSP90AA1</td>\n",
       "      <td>0.506</td>\n",
       "      <td>0.063</td>\n",
       "    </tr>\n",
       "    <tr>\n",
       "      <th>ENSG00000096384.20</th>\n",
       "      <td>ENSG00000096384</td>\n",
       "      <td>ENSG00000096384</td>\n",
       "      <td>g3</td>\n",
       "      <td>HSP90AB1</td>\n",
       "      <td>0.503</td>\n",
       "      <td>0.063</td>\n",
       "    </tr>\n",
       "    <tr>\n",
       "      <th>...</th>\n",
       "      <td>...</td>\n",
       "      <td>...</td>\n",
       "      <td>...</td>\n",
       "      <td>...</td>\n",
       "      <td>...</td>\n",
       "      <td>...</td>\n",
       "    </tr>\n",
       "    <tr>\n",
       "      <th>ENSG00000123505.20</th>\n",
       "      <td>ENSG00000123505</td>\n",
       "      <td>ENSG00000123505</td>\n",
       "      <td>g3</td>\n",
       "      <td>AMD1</td>\n",
       "      <td>0.001</td>\n",
       "      <td>0.000</td>\n",
       "    </tr>\n",
       "    <tr>\n",
       "      <th>ENSG00000112715.26</th>\n",
       "      <td>ENSG00000112715</td>\n",
       "      <td>ENSG00000112715</td>\n",
       "      <td>g3</td>\n",
       "      <td>VEGFA</td>\n",
       "      <td>0.001</td>\n",
       "      <td>0.000</td>\n",
       "    </tr>\n",
       "    <tr>\n",
       "      <th>ENSG00000233276.9</th>\n",
       "      <td>ENSG00000233276</td>\n",
       "      <td>ENSG00000233276</td>\n",
       "      <td>g3</td>\n",
       "      <td>GPX1</td>\n",
       "      <td>0.000</td>\n",
       "      <td>0.000</td>\n",
       "    </tr>\n",
       "    <tr>\n",
       "      <th>ENSG00000291237.1</th>\n",
       "      <td>ENSG00000291237</td>\n",
       "      <td>ENSG00000291237</td>\n",
       "      <td>g3</td>\n",
       "      <td>SOD2</td>\n",
       "      <td>0.000</td>\n",
       "      <td>0.000</td>\n",
       "    </tr>\n",
       "    <tr>\n",
       "      <th>ENSG00000014641.21</th>\n",
       "      <td>ENSG00000014641</td>\n",
       "      <td>ENSG00000014641</td>\n",
       "      <td>g3</td>\n",
       "      <td>MDH1</td>\n",
       "      <td>0.000</td>\n",
       "      <td>0.000</td>\n",
       "    </tr>\n",
       "  </tbody>\n",
       "</table>\n",
       "<p>2219 rows × 6 columns</p>\n",
       "</div>"
      ],
      "text/plain": [
       "                        GeneStableID          Gene ID Gene Type Gene Name  \\\n",
       "GeneStableIDVersion                                                         \n",
       "ENSG00000111640.15   ENSG00000111640  ENSG00000111640        g3     GAPDH   \n",
       "ENSG00000075624.17   ENSG00000075624  ENSG00000075624        g3      ACTB   \n",
       "ENSG00000142208.19   ENSG00000142208  ENSG00000142208        g3      AKT1   \n",
       "ENSG00000080824.19   ENSG00000080824  ENSG00000080824        g3  HSP90AA1   \n",
       "ENSG00000096384.20   ENSG00000096384  ENSG00000096384        g3  HSP90AB1   \n",
       "...                              ...              ...       ...       ...   \n",
       "ENSG00000123505.20   ENSG00000123505  ENSG00000123505        g3      AMD1   \n",
       "ENSG00000112715.26   ENSG00000112715  ENSG00000112715        g3     VEGFA   \n",
       "ENSG00000233276.9    ENSG00000233276  ENSG00000233276        g3      GPX1   \n",
       "ENSG00000291237.1    ENSG00000291237  ENSG00000291237        g3      SOD2   \n",
       "ENSG00000014641.21   ENSG00000014641  ENSG00000014641        g3      MDH1   \n",
       "\n",
       "                     Degree Centrality  Eigenvector Centrality  \n",
       "GeneStableIDVersion                                             \n",
       "ENSG00000111640.15               0.688                   0.071  \n",
       "ENSG00000075624.17               0.617                   0.066  \n",
       "ENSG00000142208.19               0.539                   0.054  \n",
       "ENSG00000080824.19               0.506                   0.063  \n",
       "ENSG00000096384.20               0.503                   0.063  \n",
       "...                                ...                     ...  \n",
       "ENSG00000123505.20               0.001                   0.000  \n",
       "ENSG00000112715.26               0.001                   0.000  \n",
       "ENSG00000233276.9                0.000                   0.000  \n",
       "ENSG00000291237.1                0.000                   0.000  \n",
       "ENSG00000014641.21               0.000                   0.000  \n",
       "\n",
       "[2219 rows x 6 columns]"
      ]
     },
     "execution_count": 45,
     "metadata": {},
     "output_type": "execute_result"
    }
   ],
   "source": [
    "first_order_interaction_df_desc"
   ]
  },
  {
   "cell_type": "code",
   "execution_count": 47,
   "id": "fde01e66-389d-45f0-83e2-a8b4e1461f0b",
   "metadata": {},
   "outputs": [
    {
     "name": "stdout",
     "output_type": "stream",
     "text": [
      "439\n"
     ]
    },
    {
     "data": {
      "text/plain": [
       "1608"
      ]
     },
     "execution_count": 47,
     "metadata": {},
     "output_type": "execute_result"
    }
   ],
   "source": [
    "print(len(master_regulator_set))\n",
    "\n",
    "len(tf_set)"
   ]
  },
  {
   "cell_type": "code",
   "execution_count": 49,
   "id": "586c6cde-ab85-4686-917d-cd7168f60268",
   "metadata": {},
   "outputs": [
    {
     "data": {
      "text/plain": [
       "AnnData object with n_obs × n_vars = 1 × 19782\n",
       "    obs: 'TFStableID', 'TFName', 'TFClass', 'IsTF', 'GeneVersion', 'GeneDescription', 'Entrez_Description', 'GeneType', 'ChromosomescaffoldName', 'GeneStartbp', 'GeneEndbp', 'Strand', 'TranscriptCount', 'DNA_Binding_Domain', 'TF_Assessment', 'Binding', 'Motif_Status', 'ORFeome_Activator', 'DelRosso_Activators', 'DelRosso_Repressors', 'DelRosso_Bifunctional', 'TRRUST_Activators', 'TRRUST_Repressors', 'TRRUST_Conflicting', 'Sums', 'Target_Gene_Count'\n",
       "    var: 'GeneStableID', 'GeneName', 'ReferenceGenome', 'GeneAliases', 'GeneAliasesWithSources', 'GeneDescription', 'GeneType', 'ChromosomescaffoldName', 'GeneStartbp', 'GeneEndbp', 'Strand', 'TranscriptCount', 'SourceOfGeneName', 'Sourcegene', 'GeneLengthStart2End', 'GeneLengthUnionOfExons', 'ExonCount', 'foundOnBioMartBy'\n",
       "    layers: '10kp_up_10kb_down', '500bp_up_100bp_down'"
      ]
     },
     "execution_count": 49,
     "metadata": {},
     "output_type": "execute_result"
    }
   ],
   "source": [
    "gene_row_index = b_matrix[b_matrix.obs['TFStableID'] == 'ENSG00000129152' , :].copy()\n",
    "gene_row_index"
   ]
  },
  {
   "cell_type": "code",
   "execution_count": 56,
   "id": "715b3d25-afc9-4455-834f-dbf0b380d60d",
   "metadata": {},
   "outputs": [
    {
     "name": "stdout",
     "output_type": "stream",
     "text": [
      "[ True  True  True ... False False False]\n",
      "1\n"
     ]
    }
   ],
   "source": [
    "matching_obs_mask = gene_row_index.X == 1\n",
    "\n",
    "print(matching_obs_mask.flatten())\n",
    "print(len(matching_obs_mask))"
   ]
  },
  {
   "cell_type": "code",
   "execution_count": null,
   "id": "eb0f7664-db49-4c7c-82b0-23cd76608e52",
   "metadata": {},
   "outputs": [],
   "source": []
  },
  {
   "cell_type": "markdown",
   "id": "f28bdd35-d54c-4c25-b1f6-bb237f0cbfe3",
   "metadata": {},
   "source": [
    "## Visualizing the matrices with Bloom filter\n",
    "\n"
   ]
  },
  {
   "cell_type": "code",
   "execution_count": 22,
   "id": "0a911b05-1b6b-4a29-88b0-f13320c66704",
   "metadata": {},
   "outputs": [],
   "source": [
    "\n",
    "def visualize_bloom(matrix, sigma=1.5, scale=1.0, cmap='hot'):\n",
    "    \"\"\"\n",
    "    Visualizes a binary matrix with smooth 'bloom' around 1s.\n",
    "    \n",
    "    Parameters:\n",
    "    - matrix: binary 2D np.array\n",
    "    - sigma: how far the bloom spreads (higher = wider glow)\n",
    "    - scale: multiplier to brighten the image\n",
    "    - cmap: matplotlib colormap\n",
    "    \"\"\"\n",
    "    # Apply Gaussian blur\n",
    "    blurred = gaussian_filter(matrix.astype(float), sigma=sigma)\n",
    "    \n",
    "    # Optional scaling\n",
    "    blurred *= scale\n",
    "\n",
    "    # Plot\n",
    "    plt.figure(figsize=(8, 6))\n",
    "    plt.imshow(blurred, cmap=cmap, interpolation='nearest')\n",
    "    plt.colorbar(label='Interaction Intensity')\n",
    "    plt.title('Interaction Heatmap (with Bloom)')\n",
    "    plt.xlabel('Columns')\n",
    "    plt.ylabel('Rows')\n",
    "    plt.show()"
   ]
  },
  {
   "cell_type": "code",
   "execution_count": 24,
   "id": "391b7eed-0eb4-4295-bc6c-c3b8c4ee2f7e",
   "metadata": {},
   "outputs": [],
   "source": [
    "M = a_matrix_adata.X.toarray()\n",
    "\n",
    "# visualize_bloom(M, sigma=2.5, scale=5.0, cmap='magma')"
   ]
  },
  {
   "cell_type": "code",
   "execution_count": 74,
   "id": "28878857-ec14-44f1-82f6-bb71901a63a9",
   "metadata": {},
   "outputs": [
    {
     "ename": "NameError",
     "evalue": "name 'M' is not defined",
     "output_type": "error",
     "traceback": [
      "\u001b[31m---------------------------------------------------------------------------\u001b[39m",
      "\u001b[31mNameError\u001b[39m                                 Traceback (most recent call last)",
      "\u001b[36mCell\u001b[39m\u001b[36m \u001b[39m\u001b[32mIn[74]\u001b[39m\u001b[32m, line 4\u001b[39m\n\u001b[32m      1\u001b[39m start = \u001b[32m2000\u001b[39m\n\u001b[32m      2\u001b[39m end = \u001b[32m3000\u001b[39m\n\u001b[32m----> \u001b[39m\u001b[32m4\u001b[39m subm = \u001b[43mM\u001b[49m[start:end, start:end]\n\u001b[32m      6\u001b[39m plt.figure(figsize=(\u001b[32m10\u001b[39m, \u001b[32m10\u001b[39m))\n\u001b[32m      7\u001b[39m plt.imshow(subm, cmap=\u001b[33m'\u001b[39m\u001b[33mbinary\u001b[39m\u001b[33m'\u001b[39m, interpolation=\u001b[33m'\u001b[39m\u001b[33mnearest\u001b[39m\u001b[33m'\u001b[39m)\n",
      "\u001b[31mNameError\u001b[39m: name 'M' is not defined"
     ]
    }
   ],
   "source": [
    "\n",
    "start = 2000\n",
    "end = 3000\n",
    "\n",
    "subm = M[start:end, start:end]\n",
    "\n",
    "plt.figure(figsize=(10, 10))\n",
    "plt.imshow(subm, cmap='binary', interpolation='nearest')\n",
    "plt.axis('off')\n",
    "plt.savefig(f'figures/interactions/A_matrix_{start}_{end}', bbox_inches='tight', dpi=300)"
   ]
  },
  {
   "cell_type": "code",
   "execution_count": 6,
   "id": "8c1e3bcd-6a44-4844-b242-932f5ad35ca2",
   "metadata": {},
   "outputs": [
    {
     "data": {
      "image/png": "[encoded data removed]",
      "text/plain": [
       "<Figure size 2000x1500 with 1 Axes>"
      ]
     },
     "metadata": {},
     "output_type": "display_data"
    }
   ],
   "source": [
    "# B = b_matrix.X.T\n",
    "B = b_matrix_true.X.toarray().T\n",
    "\n",
    "\n",
    "plt.figure(figsize=(20, 15))\n",
    "plt.imshow(B, cmap='binary', interpolation='nearest')\n",
    "plt.axis('off')\n",
    "plt.savefig(f'figures/interactions/B_matrix_full', bbox_inches='tight', dpi=300)"
   ]
  },
  {
   "cell_type": "code",
   "execution_count": 41,
   "id": "73af2dc0-3ad4-419b-a713-1990de517b26",
   "metadata": {},
   "outputs": [
    {
     "data": {
      "text/plain": [
       "<matplotlib.image.AxesImage at 0x1475ab485510>"
      ]
     },
     "execution_count": 41,
     "metadata": {},
     "output_type": "execute_result"
    },
    {
     "data": {
      "image/png": "[encoded data removed]",
      "text/plain": [
       "<Figure size 1000x1000 with 1 Axes>"
      ]
     },
     "metadata": {},
     "output_type": "display_data"
    }
   ],
   "source": [
    "\n",
    "start = 15000\n",
    "end = 16000\n",
    "\n",
    "subm = M[start:end, start:end]\n",
    "\n",
    "plt.figure(figsize=(10, 10))\n",
    "plt.imshow(M, cmap='binary', interpolation='nearest')\n",
    "# plt.axis('off')\n",
    "# plt.savefig(f'figures/interactions/A_matrix_{start}_{end}', bbox_inches='tight', dpi=300)"
   ]
  },
  {
   "cell_type": "code",
   "execution_count": 27,
   "id": "e06b8128-2505-4a6c-80ff-120f0cef60e9",
   "metadata": {},
   "outputs": [
    {
     "data": {
      "text/plain": [
       "(19678, 19678)"
      ]
     },
     "execution_count": 27,
     "metadata": {},
     "output_type": "execute_result"
    }
   ],
   "source": [
    "M.shape"
   ]
  },
  {
   "cell_type": "code",
   "execution_count": null,
   "id": "d5b55d56-3a7a-4baf-8b19-44198ad77e89",
   "metadata": {},
   "outputs": [],
   "source": []
  },
  {
   "cell_type": "markdown",
   "id": "2f2fff9a-0360-4013-8b64-7738935609f7",
   "metadata": {},
   "source": [
    "## B matrix operations"
   ]
  },
  {
   "cell_type": "code",
   "execution_count": 8,
   "id": "eb750b78-4179-4a4f-b27d-964c1816aaf3",
   "metadata": {},
   "outputs": [
    {
     "data": {
      "text/plain": [
       "AnnData object with n_obs × n_vars = 1608 × 19782\n",
       "    obs: 'TFStableID', 'TFName', 'TFClass', 'IsTF', 'GeneVersion', 'GeneDescription', 'Entrez_Description', 'GeneType', 'ChromosomescaffoldName', 'GeneStartbp', 'GeneEndbp', 'Strand', 'TranscriptCount', 'DNA_Binding_Domain', 'TF_Assessment', 'Binding', 'Motif_Status', 'ORFeome_Activator', 'DelRosso_Activators', 'DelRosso_Repressors', 'DelRosso_Bifunctional', 'TRRUST_Activators', 'TRRUST_Repressors', 'TRRUST_Conflicting', 'Sums', 'Target_Gene_Count'\n",
       "    var: 'GeneStableID', 'GeneName', 'ReferenceGenome', 'GeneAliases', 'GeneAliasesWithSources', 'GeneDescription', 'GeneType', 'ChromosomescaffoldName', 'GeneStartbp', 'GeneEndbp', 'Strand', 'TranscriptCount', 'SourceOfGeneName', 'Sourcegene', 'GeneLengthStart2End', 'GeneLengthUnionOfExons', 'ExonCount', 'foundOnBioMartBy'\n",
       "    layers: '10kp_up_10kb_down', '500bp_up_100bp_down'"
      ]
     },
     "execution_count": 8,
     "metadata": {},
     "output_type": "execute_result"
    }
   ],
   "source": [
    "b_matrix"
   ]
  },
  {
   "cell_type": "code",
   "execution_count": 9,
   "id": "5e24cd0b-57a6-418a-9063-077443885826",
   "metadata": {},
   "outputs": [
    {
     "data": {
      "text/plain": [
       "(Index(['ENSG00000005889', 'ENSG00000020633', 'ENSG00000043355',\n",
       "        'ENSG00000066336', 'ENSG00000073282', 'ENSG00000082175',\n",
       "        'ENSG00000087510', 'ENSG00000091831', 'ENSG00000100644',\n",
       "        'ENSG00000100811', 'ENSG00000101412', 'ENSG00000102554',\n",
       "        'ENSG00000102974', 'ENSG00000104856', 'ENSG00000106459',\n",
       "        'ENSG00000107249', 'ENSG00000107485', 'ENSG00000107859',\n",
       "        'ENSG00000109320', 'ENSG00000111049', 'ENSG00000111087',\n",
       "        'ENSG00000111145', 'ENSG00000111704', 'ENSG00000112592',\n",
       "        'ENSG00000116604', 'ENSG00000117139', 'ENSG00000118260',\n",
       "        'ENSG00000120738', 'ENSG00000121068', 'ENSG00000122180',\n",
       "        'ENSG00000124092', 'ENSG00000124813', 'ENSG00000125798',\n",
       "        'ENSG00000125952', 'ENSG00000129152', 'ENSG00000129514',\n",
       "        'ENSG00000130711', 'ENSG00000131931', 'ENSG00000134046',\n",
       "        'ENSG00000134323', 'ENSG00000136826', 'ENSG00000136997',\n",
       "        'ENSG00000137203', 'ENSG00000138378', 'ENSG00000139352',\n",
       "        'ENSG00000140396', 'ENSG00000143437', 'ENSG00000144161',\n",
       "        'ENSG00000147596', 'ENSG00000154727', 'ENSG00000156273',\n",
       "        'ENSG00000157554', 'ENSG00000158055', 'ENSG00000159216',\n",
       "        'ENSG00000162367', 'ENSG00000163909', 'ENSG00000164256',\n",
       "        'ENSG00000164458', 'ENSG00000165606', 'ENSG00000166478',\n",
       "        'ENSG00000167182', 'ENSG00000168214', 'ENSG00000168610',\n",
       "        'ENSG00000168874', 'ENSG00000169016', 'ENSG00000169635',\n",
       "        'ENSG00000170345', 'ENSG00000170577', 'ENSG00000173894',\n",
       "        'ENSG00000174332', 'ENSG00000175745', 'ENSG00000178951',\n",
       "        'ENSG00000185122', 'ENSG00000185591', 'ENSG00000187079',\n",
       "        'ENSG00000196214', 'ENSG00000197905', 'ENSG00000198517',\n",
       "        'ENSG00000204531', 'ENSG00000205250', 'ENSG00000213999'],\n",
       "       dtype='object', name='TFStableID'),\n",
       " -6)"
      ]
     },
     "execution_count": 9,
     "metadata": {},
     "output_type": "execute_result"
    }
   ],
   "source": [
    "gene_target = 'ENSG00000129152'\n",
    "\n",
    "get_influencers(b_matrix, gene_target)\n",
    "    "
   ]
  },
  {
   "cell_type": "code",
   "execution_count": 69,
   "id": "d4a3d7ec-ef3d-41f5-b950-54f690eac7e2",
   "metadata": {},
   "outputs": [
    {
     "data": {
      "text/plain": [
       "array([[0, 0, 0, ..., 0, 0, 0],\n",
       "       [0, 0, 0, ..., 0, 0, 0],\n",
       "       [0, 0, 0, ..., 0, 0, 0],\n",
       "       ...,\n",
       "       [0, 0, 0, ..., 0, 0, 0],\n",
       "       [0, 0, 0, ..., 0, 0, 0],\n",
       "       [0, 0, 0, ..., 0, 0, 0]], shape=(1608, 19678), dtype=int8)"
      ]
     },
     "execution_count": 69,
     "metadata": {},
     "output_type": "execute_result"
    }
   ],
   "source": [
    "b_matrix.X.toarray()"
   ]
  },
  {
   "cell_type": "code",
   "execution_count": 21,
   "id": "7a51a232-4f8c-412c-971f-bb725ee5a1b2",
   "metadata": {},
   "outputs": [
    {
     "name": "stdout",
     "output_type": "stream",
     "text": [
      "PRRX1 influencers : 78 and PRRX1 influenced : 195 \n",
      "MYOD1 influencers : 169 and MYOD1 influenced : 544 \n"
     ]
    }
   ],
   "source": [
    "\n",
    "def get_influencer_influenced_lists(b_matrix, gene):\n",
    "    # b_matrix = b_matrix_true\n",
    "    \n",
    "    myod_influencers = b_matrix.X[::, b_matrix.var_names == gene].toarray()\n",
    "    myod_influenced = b_matrix.X[b_matrix.obs_names == gene, ::].toarray()\n",
    "    \n",
    "    myod_influencers_list = list(myod_influencers.ravel().flatten())\n",
    "    tfs = b_matrix.obs_names\n",
    "    gene_ids = b_matrix.var_names\n",
    "    \n",
    "    myod_influencers_strings = []\n",
    "    for i in range(len(myod_influencers_list)):\n",
    "        inf = myod_influencers_list[i]\n",
    "        if inf == 1:\n",
    "            myod_influencers_strings.append(gene_id_name_map.get(tfs[i], 'NA'))\n",
    "    \n",
    "    myod_influenced_list = list(myod_influenced.flatten())\n",
    "    myod_influenced_strings = []\n",
    "    for i in range(len(myod_influenced_list)):\n",
    "        inf = myod_influenced_list[i]\n",
    "        if inf == 1:\n",
    "            myod_influenced_strings.append(gene_id_name_map.get(gene_ids[i], 'NA'))\n",
    "    return myod_influencers_strings, myod_influenced_strings\n",
    "\n",
    "prrx1 = 'ENSG00000116132'\n",
    "myod1 = 'ENSG00000129152'\n",
    "\n",
    "prrx1_influencers, prrx1_influenced = get_influencer_influenced_lists(b_matrix_true, prrx1)\n",
    "myod1_influencers, myod1_influenced = get_influencer_influenced_lists(b_matrix_true, myod1)\n",
    "\n",
    "\n",
    "print(f\"PRRX1 influencers : {len(prrx1_influencers)} and PRRX1 influenced : {len(prrx1_influenced)} \")\n",
    "print(f\"MYOD1 influencers : {len(myod1_influencers)} and MYOD1 influenced : {len(myod1_influenced)} \")"
   ]
  },
  {
   "cell_type": "code",
   "execution_count": null,
   "id": "1eac24e8-14a0-4965-92fc-9e77f26106e5",
   "metadata": {},
   "outputs": [],
   "source": []
  },
  {
   "cell_type": "code",
   "execution_count": 32,
   "id": "da30c419-bcaa-4ce5-a0ef-b61fdb0ac08c",
   "metadata": {},
   "outputs": [],
   "source": [
    "plotted = plotted.ravel()\n",
    "\n",
    "labs = [gene_id_name_map.get(i, 'NA') for i in b_matrix.obs_names]"
   ]
  },
  {
   "cell_type": "code",
   "execution_count": 65,
   "id": "0a68c38c-42e5-485c-ad66-6a5a73b9caff",
   "metadata": {},
   "outputs": [
    {
     "data": {
      "image/png": "[encoded data removed]",
      "text/plain": [
       "<Figure size 2500x500 with 1 Axes>"
      ]
     },
     "metadata": {},
     "output_type": "display_data"
    }
   ],
   "source": [
    "import matplotlib.pyplot as plt\n",
    "\n",
    "# Create a figure and a single subplot (axes)\n",
    "fig, ax = plt.subplots(1, 1, figsize=(25, 5))\n",
    "\n",
    "# Define x-axis tick positions and labels\n",
    "x_ticks = [i for i in range(len(myod_influencers_strings))]\n",
    "x_labels = myod_influencers_strings\n",
    "\n",
    "# Set the x-axis ticks and labels\n",
    "ax.set_xticks(x_ticks)\n",
    "ax.set_xticklabels(x_labels, rotation=90)\n",
    "\n",
    "# Hide the y-axis\n",
    "ax.yaxis.set_visible(False)\n",
    "\n",
    "# Optional: Add a title to the x-axis\n",
    "ax.set_xlabel('My X-Axis')\n",
    "\n",
    "# Display the plot\n",
    "plt.savefig('myod_gene_influencers', bbox_inches='tight', dpi=300)\n"
   ]
  },
  {
   "cell_type": "code",
   "execution_count": 75,
   "id": "096c37f9-e19f-44a4-9688-c4cad2d24ed2",
   "metadata": {},
   "outputs": [
    {
     "data": {
      "image/png": "[encoded data removed]",
      "text/plain": [
       "<Figure size 450x450 with 1 Axes>"
      ]
     },
     "metadata": {},
     "output_type": "display_data"
    }
   ],
   "source": [
    "import matplotlib.pyplot as plt\n",
    "\n",
    "# Create a figure and a single subplot (axes)\n",
    "fig, ax = plt.subplots(1, 1, figsize=(4.5, 4.5))\n",
    "\n",
    "yax_lab = myod_influenced_strings[-10:]\n",
    "# Define x-axis tick positions and labels\n",
    "y_ticks = [i for i in range(len(yax_lab))]\n",
    "y_labels = yax_lab\n",
    "\n",
    "# Set the x-axis ticks and labels\n",
    "ax.set_yticks(y_ticks)\n",
    "ax.set_yticklabels(y_labels)\n",
    "\n",
    "# Hide the y-axis\n",
    "ax.xaxis.set_visible(False)\n",
    "\n",
    "# # Optional: Add a title to the x-axis\n",
    "# ax.set_xlabel('My X-Axis')\n",
    "\n",
    "# Display the plot\n",
    "plt.savefig('myod_gene_influenced', bbox_inches='tight', dpi=300)\n"
   ]
  },
  {
   "cell_type": "code",
   "execution_count": 40,
   "id": "c70060a0-29b3-4c46-96f4-5744b47922db",
   "metadata": {},
   "outputs": [
    {
     "data": {
      "image/png": "[encoded data removed]",
      "text/plain": [
       "<Figure size 2500x1000 with 1 Axes>"
      ]
     },
     "metadata": {},
     "output_type": "display_data"
    }
   ],
   "source": [
    "plt.figure(figsize=(25, 10))\n",
    "plt.bar(range(len(mask)), mask, color=colors)\n",
    "\n",
    "# Apply custom x-ticks and rotate\n",
    "plt.xticks(ticks=range(len(mask)), labels=filtered_labels, rotation=90)\n",
    "\n",
    "plt.ylabel(\"Binary Value\")\n",
    "plt.ylim(0, 1)\n",
    "plt.title(\"MYOD gene influencers\")\n",
    "plt.grid(axis='y', linestyle='--', alpha=0.5)\n",
    "\n",
    "plt.tight_layout()\n",
    "plt.savefig('myod.png')"
   ]
  },
  {
   "cell_type": "code",
   "execution_count": null,
   "id": "076e9a34-225d-421a-8b28-b618f9f3325f",
   "metadata": {},
   "outputs": [],
   "source": [
    "# PRRX1\n",
    "\n",
    "# gene_name_id_map.get('PRRX1')\n",
    "# 'ENSG00000116132' in repressorlist"
   ]
  },
  {
   "cell_type": "code",
   "execution_count": null,
   "id": "6b0d7e38-40f0-4fab-b0c8-ca7d250d1d49",
   "metadata": {},
   "outputs": [],
   "source": []
  },
  {
   "cell_type": "markdown",
   "id": "77c74b30-ccc1-4439-9b14-e9a194e7f824",
   "metadata": {},
   "source": [
    "## First Order Interactions"
   ]
  },
  {
   "cell_type": "code",
   "execution_count": 24,
   "id": "9382fdbf-14fa-486a-a9c4-9b55dcc4e29f",
   "metadata": {},
   "outputs": [
    {
     "name": "stdout",
     "output_type": "stream",
     "text": [
      "Extracted 43945 mappings from 73467 ensembl lines\n",
      "Extracted 38606 mappings from gene id gtf file\n",
      "Total Mappings Extracted 59979\n",
      "AnnData object with n_obs × n_vars = 3 × 22083\n",
      "    obs: 'name', 'sourcename', 'sourcelink', 'refgenome'\n",
      "    var: 'GeneName', 'GeneStableIDVersion', 'gene_description', 'gene_location_string', 'gene_location_triple_1', 'gene_location_triple_2', 'gene_location_triple_3', 'gene_strand', 'gene_TSS_location_triple_1', 'gene_TSS_location_triple_2', 'gene_TSS_location_triple_3', 'excludeGene_miRNA'\n",
      "    uns: 'log1p'\n",
      "['endothelial_cells' 'endothelial_cells_(aorta)'\n",
      " 'endothelial_cells_(blood_brain_barrier)'\n",
      " 'erythroid-like_and_erythroid_precursor_cells' 'fibroblasts'\n",
      " 'hematopoietic_stem_cells' 'bladder-capillary_endothelial_cell'\n",
      " 'bladder-endothelial_cell_of_lymphatic_vessel' 'bladder-fibroblast'\n",
      " 'bladder-vein_endothelial_cell' 'blood-hematopoietic_stem_cell'\n",
      " 'blood-myeloid_progenitor' 'lung-capillary_endothelial_cell'\n",
      " 'lung-endothelial_cell_of_artery'\n",
      " 'lung-endothelial_cell_of_lymphatic_vessel'\n",
      " 'lung-lung_microvascular_endothelial_cell' 'lung-vein_endothelial_cell'\n",
      " 'muscle-capillary_endothelial_cell' 'muscle-endothelial_cell_of_artery'\n",
      " 'muscle-endothelial_cell_of_lymphatic_vessel'\n",
      " 'muscle-endothelial_cell_of_vascular_tree' 'pancreas-endothelial_cell'\n",
      " 'bone_marrow-hematopoietic_stem_cell' 'bone_marrow-myeloid_progenitor'\n",
      " 'kidney-endothelial_cell' 'large_intestine-fibroblast'\n",
      " 'large_intestine-gut_endothelial_cell' 'lung-fibroblast'\n",
      " 'small_intestine-gut_endothelial_cell' 'spleen-endothelial_cell'\n",
      " 'thymus-capillary_endothelial_cell' 'thymus-endothelial_cell_of_artery'\n",
      " 'thymus-endothelial_cell_of_lymphatic_vessel'\n",
      " 'thymus-vein_endothelial_cell' 'trachea-endothelial_cell'\n",
      " 'vasculature-endothelial_cell' 'vasculature-fibroblast'\n",
      " 'eye-retinal_blood_vessel_endothelial_cell'\n",
      " 'mammary-endothelial_cell_of_artery'\n",
      " 'mammary-endothelial_cell_of_lymphatic_vessel'\n",
      " 'mammary-fibroblast_of_breast' 'mammary-vein_endothelial_cell'\n",
      " 'uterus-endothelial_cell' 'uterus-endothelial_cell_of_lymphatic_vessel'\n",
      " 'uterus-fibroblast' 'eye-endothelial_cell' 'eye-fibroblast'\n",
      " 'liver-endothelial_cell_of_hepatic_sinusoid'\n",
      " 'lymph_node-hematopoietic_stem_cell' 'salivary_gland-endothelial_cell'\n",
      " 'salivary_gland-endothelial_cell_of_lymphatic_vessel'\n",
      " 'salivary_gland-fibroblast' 'spleen-hematopoietic_stem_cell'\n",
      " 'tongue-capillary_endothelial_cell' 'tongue-endothelial_cell_of_artery'\n",
      " 'tongue-endothelial_cell_of_lymphatic_vessel' 'tongue-fibroblast'\n",
      " 'tongue-vein_endothelial_cell' 'prostate-endothelial_cell'\n",
      " 'prostate-fibroblast' 'pancreas-fibroblast' 'fat-endothelial_cell'\n",
      " 'fat-fibroblast' 'skin-endothelial_cell'\n",
      " 'heart-fibroblast_of_cardiac_tissue' 'liver-endothelial_cell'\n",
      " 'vasculature-artery_endothelial_cell'\n",
      " 'vasculature-lymphatic_endothelial_cell']\n"
     ]
    },
    {
     "name": "stderr",
     "output_type": "stream",
     "text": [
      "/home/nuvi/.local/lib/python3.11/site-packages/anndata/_core/anndata.py:1758: UserWarning: Variable names are not unique. To make them unique, call `.var_names_make_unique`.\n",
      "  utils.warn_names_duplicates(\"var\")\n"
     ]
    },
    {
     "data": {
      "text/plain": [
       "AnnData object with n_obs × n_vars = 2424 × 2424\n",
       "    layers: 'HURI', 'STRING', 'HWG_0', 'HWG_300'"
      ]
     },
     "execution_count": 24,
     "metadata": {},
     "output_type": "execute_result"
    }
   ],
   "source": [
    "def get_gene_targets(matrix, perturbation, nodelist):\n",
    "\n",
    "    # Genes infulenced by a transcription factor\n",
    "\n",
    "    gene_row_index = matrix[matrix.obs_names == perturbation , :].copy()\n",
    "    \n",
    "    var_node_mask = matrix.var_names.isin(nodelist)\n",
    "    \n",
    "    gene_row = gene_row_index.X\n",
    "    \n",
    "    if hasattr(gene_row, \"toarray\"):\n",
    "        gene_row = gene_row.toarray().ravel()\n",
    "    else:\n",
    "        gene_row = gene_row.ravel()\n",
    "    \n",
    "    matching_var_mask = var_node_mask & (gene_row == 1) \n",
    "    targets = matrix.var_names[matching_var_mask]\n",
    "    \n",
    "    return targets\n",
    "\n",
    "def fetch_genexpression_data(a_matrix_adata, celltype, cell):\n",
    "    gene_id_name_map, gene_name_id_map = generate_gene_id_name_map()\n",
    "    gex_adata = anndata.read_h5ad('./data/Genexpression.h5ad')\n",
    "    marker_gene_df = pd.read_csv('./data/clean_marker_genes.csv')\n",
    "    print(gex_adata)\n",
    "    print(marker_gene_df.cell_type.unique())\n",
    "    fibroblast_markers = marker_gene_df[marker_gene_df['cell_type'] == celltype]\n",
    "    marker_genes = list(fibroblast_markers['gene_name'])\n",
    "    \n",
    "    \n",
    "    marker_ids = [ gene_name_id_map[i] for i in marker_genes ]\n",
    "    expr_values = gex_adata.X[gex_adata.obs_names == cell].flatten()\n",
    "    \n",
    "    expr_series = pd.Series(expr_values, index=gex_adata.var_names)\n",
    "    marker_expr = expr_series[expr_series.index.isin(marker_ids)]\n",
    "    \n",
    "    # threshold = marker_expr.mean()\n",
    "    threshold = marker_expr.median()\n",
    "    high_expr = expr_series[expr_series > threshold]\n",
    "    top_genes = high_expr.sort_values(ascending=False)\n",
    "    top_genes = top_genes[top_genes.index.notna()]\n",
    "    fibroblast_expressed_genes = top_genes.index.tolist()\n",
    "    \n",
    "    fibroblast_adata = a_matrix_adata[a_matrix_adata.obs_names.isin(fibroblast_expressed_genes), a_matrix_adata.var_names.isin(fibroblast_expressed_genes)].copy()\n",
    "    return fibroblast_adata\n",
    "\n",
    "print(fetch_genexpression_data(a_matrix_adata, 'fibroblasts', 'Fibroblast'))"
   ]
  },
  {
   "cell_type": "code",
   "execution_count": 21,
   "id": "95c625f2-e235-443b-acaa-bbe6ada5baef",
   "metadata": {},
   "outputs": [
    {
     "name": "stdout",
     "output_type": "stream",
     "text": [
      "First Order Interactions\n",
      "HWG Genes : 19678\n",
      "Fibroblast Genes : 2424\n",
      "MYOD first order interactions in HWG : 544\n",
      "First order ON genes in fibroblast : 100\n",
      "First order OFF genes in fibroblast : 2324\n",
      "MYOD Second order interactions in HWG : 16034\n",
      "Second order ON genes in fibroblast : 2745\n",
      "Second order OFF genes in fibroblast : 123\n"
     ]
    }
   ],
   "source": [
    "perturbation = 'ENSG00000129152'\n",
    "\n",
    "full_targetset = get_gene_targets(a_matrix_adata, perturbation, a_matrix_adata.obs_names)\n",
    "MYOD_target_geneset = set(full_targetset)\n",
    "fibroblast_geneset = set(fibroblast_adata.obs_names)\n",
    "\n",
    "print(\"First Order Interactions\")\n",
    "\n",
    "print(f\"HWG Genes : {len(a_matrix_adata.obs_names)}\")\n",
    "print(f\"Fibroblast Genes : {len(fibroblast_geneset)}\")\n",
    "\n",
    "first_order_on_genes = MYOD_target_geneset.intersection(fibroblast_geneset)\n",
    "first_order_off_genes = fibroblast_geneset - MYOD_target_geneset.intersection(fibroblast_geneset)\n",
    "\n",
    "# First Order\n",
    "print(f\"MYOD first order interactions in HWG : {len(MYOD_target_geneset)}\")\n",
    "print(f\"First order ON genes in fibroblast : {len(first_order_on_genes)}\")\n",
    "print(f\"First order OFF genes in fibroblast : {len(first_order_off_genes)}\")\n",
    "\n",
    "first_order_fibroblast_geneset = fibroblast_geneset.union(MYOD_target_geneset)\n",
    "\n",
    "second_order_interactions_HWG = set()\n",
    "for gene in MYOD_target_geneset:\n",
    "    sub_targetset = get_gene_targets(a_matrix_adata, gene, a_matrix_adata.obs_names)\n",
    "    second_order_interactions_HWG = second_order_interactions_HWG.union(sub_targetset)\n",
    "    \n",
    "\n",
    "second_order_on_genes = second_order_interactions_HWG.intersection(first_order_fibroblast_geneset)\n",
    "second_order_off_genes = first_order_fibroblast_geneset - second_order_interactions_HWG.intersection(first_order_fibroblast_geneset)\n",
    "\n",
    "# Second Order\n",
    "print(f\"MYOD Second order interactions in HWG : {len(second_order_interactions_HWG)}\")\n",
    "print(f\"Second order ON genes in fibroblast : {len(second_order_on_genes)}\")\n",
    "print(f\"Second order OFF genes in fibroblast : {len(second_order_off_genes)}\")\n",
    "\n",
    "\n",
    "\n",
    "# Active vs Inactive sets\n",
    "print(f\"Intersection of Active genes in Fibroblast and Myotube {}\")\n",
    "print(f\"Intersection of Inactive genes in Fibroblast and Myotube {}\")\n",
    "\n",
    "print(f\"Intersection of Active genes in first order Fibroblast and Myotube{}\")\n",
    "print(f\"Intersection of Active genes in first order Fibroblast and Myotube{}\")\n",
    "\n",
    "print(f\"Intersection of Active genes in Second order Fibroblast and Myotube{}\")\n",
    "print(f\"Intersection of Active genes in Second order Fibroblast and Myotube{}\")\n",
    "\n",
    "\n",
    "\n"
   ]
  },
  {
   "cell_type": "code",
   "execution_count": null,
   "id": "1edd76a7-4f9a-4658-a681-5d2def2a4565",
   "metadata": {},
   "outputs": [],
   "source": []
  }
 ],
 "metadata": {
  "kernelspec": {
   "display_name": "HardWiredGenome",
   "language": "python",
   "name": "hardwiredgenome"
  },
  "language_info": {
   "codemirror_mode": {
    "name": "ipython",
    "version": 3
   },
   "file_extension": ".py",
   "mimetype": "text/x-python",
   "name": "python",
   "nbconvert_exporter": "python",
   "pygments_lexer": "ipython3",
   "version": "3.11.12"
  }
 },
 "nbformat": 4,
 "nbformat_minor": 5
}
